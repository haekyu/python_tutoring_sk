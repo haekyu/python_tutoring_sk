{
 "cells": [
  {
   "cell_type": "markdown",
   "metadata": {},
   "source": [
    "## For 문 복습\n",
    "+ enumerate\n",
    "    - iteration 돎과 동시에, 그게 몇 번째 iteration 인지도 함께 알아냄\n",
    "        ```\n",
    "            for th, e in enumerate(lst):\n",
    "                # e == 현재 iteration에서의 원소\n",
    "                # th == 몇 번째 iteration인지 / e 의 index\n",
    "        ```\n",
    "    - 결과적으로 말하면\n",
    "        ```\n",
    "            for e in lst:\n",
    "        ```\n",
    "        와 \n",
    "        ```\n",
    "            for idx in range(lst):\n",
    "        ```\n",
    "        를 합친 느낌\n",
    "    - 만약 enumerate 를 몰랐다면 아래처럼 해도 됨.\n",
    "        ```\n",
    "            for idx in range(0, len(lst)):\n",
    "                e = lst[idx]\n",
    "                sdfsdf\n",
    "        ```\n",
    "+ zip\n",
    "    - 여러 종류의 sequence 들을 병렬적으로 iteration 돌리는 것\n",
    "    - 예) sparse matrix 에서\n",
    "        ```\n",
    "            row = [0, 1, 2]\n",
    "            col = [0, 1, 2]\n",
    "            val = [1, 1, 1]\n",
    "            for r, c, v in zip(row, col, val):\n",
    "                sdfsdfsdfsdfd\n",
    "        ```"
   ]
  },
  {
   "cell_type": "markdown",
   "metadata": {},
   "source": [
    "***\n",
    "### Dictionary\n",
    "+ **빠른!** 검색 을 위한 자료구조\n",
    "+ 이론적으로는 Hash Table 이라고 부름\n",
    "    - key\n",
    "    - value\n",
    "    - Hash Table 은 key: value 맵핑한 테이블\n",
    "+ 초기화\n",
    "    - dict(), {}\n",
    "+ 자주 쓰이는 함수 \n",
    "    - keys()\n",
    "    - values()\n",
    "    - in / not in\n",
    "        + key in / not in dict\n",
    "        + key in / not in dict.keys()"
   ]
  },
  {
   "cell_type": "code",
   "execution_count": 13,
   "metadata": {
    "collapsed": false
   },
   "outputs": [
    {
     "name": "stdout",
     "output_type": "stream",
     "text": [
      "{'Banana': 'Yellow', 'Apple': 'Red'}\n",
      "Is 'Apple' in fruit_color_dict? : True\n",
      "Is 'Mango' not in fruit_color_dict? : True\n",
      "'Apple''s color: Red\n"
     ]
    }
   ],
   "source": [
    "fruit_color_dict = dict()\n",
    "\n",
    "fruit_color_dict['Apple'] = 'Red'\n",
    "fruit_color_dict['Banana'] = 'Yellow'\n",
    "\n",
    "print(fruit_color_dict)\n",
    "print(\"Is 'Apple' in fruit_color_dict? : %r\" % ('Apple' in fruit_color_dict))\n",
    "print(\"Is 'Mango' not in fruit_color_dict? : %r\" % ('Mango' not in fruit_color_dict))\n",
    "print(\"'Apple''s color: %s\" % (fruit_color_dict['Apple']))"
   ]
  },
  {
   "cell_type": "code",
   "execution_count": 14,
   "metadata": {
    "collapsed": false
   },
   "outputs": [
    {
     "name": "stdout",
     "output_type": "stream",
     "text": [
      "{'0.5 미만': 55}\n"
     ]
    }
   ],
   "source": [
    "import numpy as np\n",
    "lst = np.random.random([100])\n",
    "\n",
    "stat = dict()\n",
    "\n",
    "for e in lst:\n",
    "\n",
    "    if e < 0.5:\n",
    "        if '0.5 미만' in stat:\n",
    "            stat['0.5 미만'] += 1\n",
    "        else:\n",
    "            stat['0.5 미만'] = 1\n",
    "\n",
    "\n",
    "print(stat)"
   ]
  },
  {
   "cell_type": "code",
   "execution_count": 15,
   "metadata": {
    "collapsed": false
   },
   "outputs": [
    {
     "name": "stdout",
     "output_type": "stream",
     "text": [
      "{'door!': 2, 'Life': 1, 'an': 2, 'much': 1, 'so': 1, 'Love': 2, 'open': 2, 'more!': 1, 'is': 2, 'can': 1, 'be': 1}\n"
     ]
    }
   ],
   "source": [
    "s = 'Love is an open door! Love is an open door! Life can be so much more!'\n",
    "lst = s.split()\n",
    "\n",
    "cnt_dict = {}\n",
    "# key = word\n",
    "# val = key가 s 안에 등장한 횟수\n",
    "\n",
    "for word in lst:\n",
    "    if word not in cnt_dict:\n",
    "        cnt_dict[word] = 1\n",
    "    else:\n",
    "        cnt_dict[word] += 1\n",
    "\n",
    "print(cnt_dict)"
   ]
  },
  {
   "cell_type": "markdown",
   "metadata": {},
   "source": [
    "***\n",
    "### 파일 입출력\n",
    "+ *.tsv / *.csv / .txt / *\n",
    "+ 파일 경로\n",
    "    - 절대 경로\n",
    "        : '/Users/haekyu/Desktop/d1/open_door.txt'\n",
    "        : 속성...\n",
    "        : \\ /\n",
    "    - 상대 경로\n",
    "        : . == 현재 경로\n",
    "        : .. == 상위 경로\n",
    "        : / /\n",
    "+ 기본 적인 방법 == 파일 객체를 만들어 읽/쓰는 방법\n",
    "    - 읽기\n",
    "        f = open(filename, 'r')\n",
    "        lst = f.readlines()\n",
    "        f.close()\n",
    "    - 쓰기\n",
    "        f = open(filename, 'w')\n",
    "        f.write('Hi')\n",
    "        f.close()\n",
    "    - 덧붙이기 (append)\n",
    "        f = open(filename, 'a')\n",
    "        f.write('Hi')\n",
    "        f.close()\n",
    "+ pandas\n",
    "    - column 별로 읽음\n",
    "    - import pandas as pd\n",
    "    dfsdfsdf = pd.read_csv(filename, sep=',', names=['이름', '성별', '나이'])\n",
    "    df = pd.read_csv(filename, sep=','): 첫번째 행을 필드 네임이라고 생각\n",
    "    - 컬럼별로 관리\n",
    "        + dfsdfsdf.컬럼명\n",
    "        + dfsdfsdf['컬럼명']"
   ]
  },
  {
   "cell_type": "code",
   "execution_count": 20,
   "metadata": {
    "collapsed": false
   },
   "outputs": [
    {
     "name": "stdout",
     "output_type": "stream",
     "text": [
      "0    33\n",
      "1    33\n",
      "2    22\n",
      "Name: 나이, dtype: int64\n",
      "----------\n",
      "남자 철수\n",
      "여자 영희\n",
      "여자 영수\n"
     ]
    }
   ],
   "source": [
    "import pandas as pd\n",
    "\n",
    "df = pd.read_csv('./sample.csv', sep=',')\n",
    "\n",
    "print(df['나이'])\n",
    "\n",
    "print('-' * 10)\n",
    "\n",
    "for sex, name in zip(df['성별'], df['이름']):\n",
    "    print(sex, name)"
   ]
  }
 ],
 "metadata": {
  "anaconda-cloud": {},
  "kernelspec": {
   "display_name": "Python [conda root]",
   "language": "python",
   "name": "conda-root-py"
  },
  "language_info": {
   "codemirror_mode": {
    "name": "ipython",
    "version": 3
   },
   "file_extension": ".py",
   "mimetype": "text/x-python",
   "name": "python",
   "nbconvert_exporter": "python",
   "pygments_lexer": "ipython3",
   "version": "3.5.2"
  }
 },
 "nbformat": 4,
 "nbformat_minor": 2
}
