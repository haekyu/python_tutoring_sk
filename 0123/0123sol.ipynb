{
 "cells": [
  {
   "cell_type": "markdown",
   "metadata": {},
   "source": [
    "## 1. For 문 연습\n",
    "아래 모양대로 출력을 해 보세요.\n",
    "```\n",
    "    **\n",
    "   ****\n",
    "  ******\n",
    " ********\n",
    "**********\n",
    " ********\n",
    "  ******\n",
    "   ****\n",
    "    **\n",
    "``` "
   ]
  },
  {
   "cell_type": "code",
   "execution_count": 6,
   "metadata": {
    "collapsed": false
   },
   "outputs": [
    {
     "name": "stdout",
     "output_type": "stream",
     "text": [
      "    **\n",
      "   ****\n",
      "  ******\n",
      " ********\n",
      "**********\n",
      " ********\n",
      "  ******\n",
      "   ****\n",
      "    **\n"
     ]
    }
   ],
   "source": [
    "# Upper triangle\n",
    "for i in range(1, 5):\n",
    "    print(' ' * (5 - i) + '*' * 2 * i)\n",
    "    \n",
    "# Botton triangle\n",
    "for i in range(5, 0, -1):\n",
    "    print(' ' * (5 - i) + '*' * 2 * i)"
   ]
  },
  {
   "cell_type": "markdown",
   "metadata": {},
   "source": [
    "## 2. For 문 연습\n",
    "2부터 100까지 자연수 중에 소수 (prime number) 인 것들의 list를 만들어 보세요.<br>\n",
    "즉, output = [2, 3, 5, ..., 97] 이면 됩니다.<br>"
   ]
  },
  {
   "cell_type": "code",
   "execution_count": 9,
   "metadata": {
    "collapsed": false
   },
   "outputs": [
    {
     "name": "stdout",
     "output_type": "stream",
     "text": [
      "output: [2, 3, 5, 7, 11, 13, 17, 19, 23, 29, 31, 37, 41, 43, 47, 53, 59, 61, 67, 71, 73, 79, 83, 89, 97]\n"
     ]
    }
   ],
   "source": [
    "def is_prime(n):\n",
    "    for i in range(2, n):\n",
    "        if n % i == 0:\n",
    "            return False\n",
    "    return True\n",
    "\n",
    "output = []\n",
    "for i in range(2, 101):\n",
    "    if is_prime(i):\n",
    "        output.append(i)\n",
    "\n",
    "print('output:', output)"
   ]
  },
  {
   "cell_type": "markdown",
   "metadata": {},
   "source": [
    "## 3. List 연습\n",
    "list 내 최대값을 갖는 원소가 몇 개인지 구해보세요.<br>\n",
    "lst = [2, 3, 6, 2, -1, 0, 6, 2, 3] 이 주어져 있을 때, 최대값인 6은 2개 있습니다.<br>\n",
    "여기서 6의 개수인 2를 출력해 보세요.<br>\n",
    "이 때 다음과 같은 포맷으로 출력해 보세요: 'max = 6, num_max = 2'.<br>"
   ]
  },
  {
   "cell_type": "code",
   "execution_count": null,
   "metadata": {
    "collapsed": true
   },
   "outputs": [],
   "source": [
    "lst = [2, 3, 6, 2, -1, 0, 6, 2, 3]\n",
    "\n",
    "# Get maximum of the lst\n",
    "max_element = max(lst)\n",
    "\n",
    "# Count the maximum\n",
    "for e in lst:\n",
    "    if e == max_element:\n",
    "        "
   ]
  },
  {
   "cell_type": "code",
   "execution_count": null,
   "metadata": {
    "collapsed": true
   },
   "outputs": [],
   "source": [
    "## 4. List 연습\n",
    "- 3 by 3 Matrix 두 개가 주어져있을 때, 두 matrix의 곱을 구하는 함수를 만들어 보세요.\n",
    "- input: M1, M2 (둘 다 3 by 3 matrix)\n",
    "- output: M (== M1 * M2)\n",
    "- 아래와 같은 skeleton code를 사용해도 됩니다.\n",
    "    ```\n",
    "    def mul_3x3_mat(M1, M2):\n",
    "        # Initialize output matrix M\n",
    "        M = [[0, 0, 0], [0, 0, 0], [0, 0, 0]]\n",
    "\n",
    "        for row in range(?):\n",
    "            for col in range(?):\n",
    "                # To get M[row][col], \n",
    "                # we need to multiply M1[row][:] and M2[:][col]\n",
    "                M_row_col = 0\n",
    "                for i in range(?):\n",
    "                    M_row_col ?? M1[row][i] * M2[i][col]\n",
    "                ?????\n",
    "        return M\n",
    "    ```"
   ]
  },
  {
   "cell_type": "code",
   "execution_count": 5,
   "metadata": {
    "collapsed": true
   },
   "outputs": [],
   "source": [
    "def mul_3x3_mat(M1, M2):\n",
    "    # Initialize output matrix M\n",
    "    M = [[0, 0, 0], [0, 0, 0], [0, 0, 0]]\n",
    "    \n",
    "    for row in range(3):\n",
    "        for col in range(3):\n",
    "            # To get M[row][col], \n",
    "            # we need to multiply M1[row][:] and M2[:][col]\n",
    "            M_row_col = 0\n",
    "            for i in range(3):\n",
    "                M_row_col += M1[row][i] * M2[i][col]\n",
    "            M[row][col] = M_row_col\n",
    "    return M"
   ]
  },
  {
   "cell_type": "code",
   "execution_count": 9,
   "metadata": {
    "collapsed": false
   },
   "outputs": [
    {
     "name": "stdout",
     "output_type": "stream",
     "text": [
      "[[-12, 12, -7], [8, 24, -3], [-16, 12, -5]]\n"
     ]
    },
    {
     "data": {
      "text/plain": [
       "[[5, 3, 1], [2, 0, -1], [-7, 3, -2]]"
      ]
     },
     "execution_count": 9,
     "metadata": {},
     "output_type": "execute_result"
    }
   ],
   "source": [
    "M1 = [[1, 2, 3], [5, 2, 3], [1, 0, 3]]\n",
    "M2 = [[5, 3, 1], [2, 0, -1], [-7, 3, -2]]\n",
    "M = mul_3x3_mat(M1, M2)\n",
    "print(M)"
   ]
  },
  {
   "cell_type": "code",
   "execution_count": 14,
   "metadata": {
    "collapsed": false
   },
   "outputs": [
    {
     "data": {
      "text/plain": [
       "array([[-12,  12,  -7],\n",
       "       [  8,  24,  -3],\n",
       "       [-16,  12,  -5]])"
      ]
     },
     "execution_count": 14,
     "metadata": {},
     "output_type": "execute_result"
    }
   ],
   "source": [
    "import numpy as np\n",
    "np.matmul(np.array(M1), np.array(M2))"
   ]
  },
  {
   "cell_type": "code",
   "execution_count": 12,
   "metadata": {
    "collapsed": false
   },
   "outputs": [
    {
     "data": {
      "text/plain": [
       "array([[ 5,  3,  1],\n",
       "       [ 2,  0, -1],\n",
       "       [-7,  3, -2]])"
      ]
     },
     "execution_count": 12,
     "metadata": {},
     "output_type": "execute_result"
    }
   ],
   "source": [
    "np.array(M1)\n",
    "np.array(M2)"
   ]
  },
  {
   "cell_type": "code",
   "execution_count": null,
   "metadata": {
    "collapsed": true
   },
   "outputs": [],
   "source": []
  }
 ],
 "metadata": {
  "anaconda-cloud": {},
  "kernelspec": {
   "display_name": "Python [conda root]",
   "language": "python",
   "name": "conda-root-py"
  },
  "language_info": {
   "codemirror_mode": {
    "name": "ipython",
    "version": 3
   },
   "file_extension": ".py",
   "mimetype": "text/x-python",
   "name": "python",
   "nbconvert_exporter": "python",
   "pygments_lexer": "ipython3",
   "version": "3.5.2"
  }
 },
 "nbformat": 4,
 "nbformat_minor": 2
}
