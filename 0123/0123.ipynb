{
 "cells": [
  {
   "cell_type": "markdown",
   "metadata": {},
   "source": [
    "## 숙제 피드백\n",
    "- string에서도 membership 됨\n",
    "    + in / not in 된다\n",
    "\t+ ex) 'an' in 'can' == True\n",
    "- slinding window\n",
    "- append 사용할 수도 있다\n",
    "    + ex) lst = [1, 2, 3]이고\n",
    "    + lst.append(3) 하면 \n",
    "    + lst == [1, 2, 3, 3]임\n",
    "- concatenate \n",
    "    + 더하기, +\n",
    "- append vs concatenate\n",
    "    + operand의 타입/레벨이 다름\n",
    "    + concatenate: lst + lst\n",
    "    + append: lst + element\n",
    "    + lst.append(['a']) 한 결과 != lst + ['a']"
   ]
  },
  {
   "cell_type": "code",
   "execution_count": 4,
   "metadata": {
    "collapsed": false
   },
   "outputs": [
    {
     "name": "stdout",
     "output_type": "stream",
     "text": [
      "lst_append: [1, 2, 3, [4]]\n",
      "lst_concat: [1, 2, 3, 4]\n"
     ]
    }
   ],
   "source": [
    "# append vs. concatenate\n",
    "lst = [1, 2, 3]\n",
    "\n",
    "# append\n",
    "lst.append([4])\n",
    "lst_append = lst\n",
    "\n",
    "# concatenate\n",
    "lst = [1, 2, 3]\n",
    "lst_concat = lst + [4]\n",
    "\n",
    "# Compare them\n",
    "print('lst_append:', lst_append)\n",
    "print('lst_concat:', lst_concat)\n"
   ]
  },
  {
   "cell_type": "markdown",
   "metadata": {},
   "source": [
    "***\n",
    "## String format\n",
    "- string fmt == string 만드는 규칙\n",
    "+ 규칙\n",
    "    - 스트링 안에 기호를 넣어서 나만의 패턴을 만들고\n",
    "    - 그 기호 안에 원한 값을 넣어주면 됨\n",
    "    - 넣어줄 때 순서 고려해서 넣어줘야 하고\n",
    "    - 패턴스트링이랑 넣어줄 값을 % 로 연결\n",
    "    - ex) '%d-th val = %s' % (1, 'sdfsdf')\n",
    "+ 기호\n",
    "    - %d == int\n",
    "    - %s == string (원랜 str인데 bool도 같이 뽑을 수 있음)\n",
    "    - %lf == float"
   ]
  },
  {
   "cell_type": "code",
   "execution_count": 5,
   "metadata": {
    "collapsed": false
   },
   "outputs": [
    {
     "name": "stdout",
     "output_type": "stream",
     "text": [
      "(1, 2) = 3\n"
     ]
    }
   ],
   "source": [
    "r, c, v = 1, 2, 3\n",
    "newstr = '(%d, %d) = %d' % (r, c, v)\n",
    "print(newstr)"
   ]
  },
  {
   "cell_type": "markdown",
   "metadata": {},
   "source": [
    "***\n",
    "## 주석\n",
    "+ \\# ~: 한 줄\n",
    "+ \"\"\"~\"\"\": 여러 줄, 원리는 str\n",
    "    - 'sdffs' or \"sdfsdf\"\n",
    "    - '''sdfsdf''' or \"\"\"sdfsdfsdf\"\"\""
   ]
  },
  {
   "cell_type": "markdown",
   "metadata": {},
   "source": [
    "***\n",
    "## 일반 연산자 + assign 연산자\n",
    "- += ???\n",
    "    + idx = idx + 1\n",
    "    + idx += 1\n",
    "        - cf) 다른 언어: idx++, ++idx\n",
    "- *=\n",
    "- /=\n",
    "- %=\n",
    "- -="
   ]
  },
  {
   "cell_type": "markdown",
   "metadata": {},
   "source": [
    "***\n",
    "## Return ?\n",
    "+ 함수에서 output을 던져주는 행위\n",
    "```\n",
    "def f(x):\n",
    "    sdfsdf\n",
    "    return x + 1\n",
    "```"
   ]
  },
  {
   "cell_type": "markdown",
   "metadata": {},
   "source": [
    "***\n",
    "## For 문\n",
    "- syntax\n",
    "```\n",
    "    for <iterator> in <iterator의 값 sequence>:\n",
    "        do\n",
    "```\n",
    "- 예시\n",
    "    - 예시 1\n",
    "        ```\n",
    "        for idx in [0, 1, 2, 3]:\n",
    "            print(idx, '-th element:', lst[idx])\n",
    "        ```\n",
    "    - 예시 2\n",
    "        ```\n",
    "        for idx in range(0, 4):\n",
    "            print(idx, '-th element:', lst[idx])\n",
    "        ```\n",
    "\n",
    "\n",
    "- term\n",
    "    + iteration == 반복\n",
    "    + iterator == 반복의 매개체? (..? 좋은 정의 뭐가 있을까...?)\n",
    "- range\n",
    "    - iterator 의 값 sequence 만들 때 많이 씀\n",
    "    - `range(<to> 미만)`\n",
    "        + from == 0\n",
    "        + step_size == 1\n",
    "    - `range(<from> 이상, <to> 미만)`\n",
    "        + step size == 1\n",
    "    - `range(<from> 이상, <to> 미만, <step size>)`\n",
    "        ```\n",
    "        for idx in range(3, -1, -1):\n",
    "            print(idx, '-th element:', lst[idx])\n",
    "        ```\n",
    "        \n",
    "- zip\n",
    "    ```\n",
    "    row = [0, 1, 2]\n",
    "    col = [3, 1, 3]\n",
    "    val = [1, 2, 3]\n",
    "\n",
    "    for r, c, v in zip(row, col, val):\n",
    "        print('(%d, %d) = %d' % (r, c, v))\n",
    "    ```\n",
    "- enumerate\n",
    "    + tuple을 뱉어\n",
    "    ```\n",
    "        lst2 = ['a', 'b', 'c', 'd']\n",
    "        for th, e in enumerate(lst2):\n",
    "            print('%d-th val = %s' % (th, e))\n",
    "    ```"
   ]
  },
  {
   "cell_type": "code",
   "execution_count": 7,
   "metadata": {
    "collapsed": false
   },
   "outputs": [
    {
     "name": "stdout",
     "output_type": "stream",
     "text": [
      "While\n",
      "0 -th element: a\n",
      "1 -th element: b\n",
      "2 -th element: c\n",
      "3 -th element: d\n",
      "\n",
      "For\n",
      "0 -th element: a\n",
      "1 -th element: b\n",
      "2 -th element: c\n",
      "3 -th element: d\n"
     ]
    }
   ],
   "source": [
    "# While 문으로 하던 걸 for 문으로 해보자!\n",
    "\n",
    "# While\n",
    "print('While')\n",
    "lst = ['a', 'b', 'c', 'd']\n",
    "idx = 0\n",
    "while idx < len(lst):\n",
    "    print(idx, '-th element:', lst[idx])\n",
    "    idx += 1\n",
    "\n",
    "# For\n",
    "print('\\nFor')\n",
    "for idx, i in enumerate(lst):\n",
    "    print(idx, '-th element:', lst[idx])"
   ]
  },
  {
   "cell_type": "code",
   "execution_count": 8,
   "metadata": {
    "collapsed": false
   },
   "outputs": [
    {
     "name": "stdout",
     "output_type": "stream",
     "text": [
      "3 -th element: d\n",
      "2 -th element: c\n",
      "1 -th element: b\n",
      "0 -th element: a\n"
     ]
    }
   ],
   "source": [
    "# Range 예제\n",
    "for idx in range(3, -1, -1):\n",
    "    print(idx, '-th element:', lst[idx])"
   ]
  },
  {
   "cell_type": "code",
   "execution_count": 9,
   "metadata": {
    "collapsed": false
   },
   "outputs": [
    {
     "name": "stdout",
     "output_type": "stream",
     "text": [
      "(0, 3) = 1\n",
      "(1, 1) = 2\n",
      "(2, 3) = 3\n"
     ]
    }
   ],
   "source": [
    "# Zip 예제 (Sparse format matrix)\n",
    "row = [0, 1, 2]\n",
    "col = [3, 1, 3]\n",
    "val = [1, 2, 3]\n",
    "\n",
    "for r, c, v in zip(row, col, val):\n",
    "    print('(%d, %d) = %d' % (r, c, v))"
   ]
  }
 ],
 "metadata": {
  "anaconda-cloud": {},
  "kernelspec": {
   "display_name": "Python [conda root]",
   "language": "python",
   "name": "conda-root-py"
  },
  "language_info": {
   "codemirror_mode": {
    "name": "ipython",
    "version": 3
   },
   "file_extension": ".py",
   "mimetype": "text/x-python",
   "name": "python",
   "nbconvert_exporter": "python",
   "pygments_lexer": "ipython3",
   "version": "3.5.2"
  }
 },
 "nbformat": 4,
 "nbformat_minor": 2
}
