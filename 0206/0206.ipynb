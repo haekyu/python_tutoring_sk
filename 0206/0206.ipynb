{
 "cells": [
  {
   "cell_type": "markdown",
   "metadata": {},
   "source": [
    "### For 문 복습\n",
    "+ enumerate\n",
    "    - element의 순서를 매겨가면서 iteration 도는 방법"
   ]
  },
  {
   "cell_type": "code",
   "execution_count": 2,
   "metadata": {
    "collapsed": false
   },
   "outputs": [
    {
     "name": "stdout",
     "output_type": "stream",
     "text": [
      "0-th element: a\n",
      "1-th element: b\n",
      "2-th element: c\n",
      "----------\n",
      "2-th element: a\n",
      "2-th element: b\n",
      "2-th element: c\n"
     ]
    }
   ],
   "source": [
    "lst = [\"a\", \"b\", \"c\"]\n",
    "for th, e in enumerate(lst):\n",
    "    print('%d-th element: %s' % (th, e))\n",
    "\n",
    "print('-' * 10)\n",
    "\n",
    "for idx in range(len(lst)):\n",
    "    e = lst[idx]\n",
    "    print('%d-th element: %s' % (th, e))"
   ]
  },
  {
   "cell_type": "markdown",
   "metadata": {},
   "source": [
    "+ zip\n",
    "    - 여러 개의 iteration 을 한꺼번에 / 병렬적으로 돌 때 사용"
   ]
  },
  {
   "cell_type": "code",
   "execution_count": 4,
   "metadata": {
    "collapsed": false
   },
   "outputs": [
    {
     "name": "stdout",
     "output_type": "stream",
     "text": [
      "철수 is 0 years old and is 여성.\n",
      "영희 is 5 years old and is 여성.\n",
      "영수 is 2 years old and is 남성.\n",
      "----------\n",
      "철수 is 0 years old and is 여성.\n",
      "영희 is 5 years old and is 여성.\n",
      "영수 is 2 years old and is 남성.\n"
     ]
    }
   ],
   "source": [
    "name = ['철수', '영희', '영수']\n",
    "age = [0, 5, 2]\n",
    "sex = ['여성', '여성', '남성']\n",
    "\n",
    "for n, a, s in zip(name, age, sex):\n",
    "    print('%s is %d years old and is %s.' % (n, a, s))\n",
    "\n",
    "print('-' * 10)\n",
    "\n",
    "for idx in range(len(name)):\n",
    "    n = name[idx]\n",
    "    a = age[idx]\n",
    "    s = sex[idx]\n",
    "    print('%s is %d years old and is %s.' % (n, a, s))"
   ]
  },
  {
   "cell_type": "markdown",
   "metadata": {},
   "source": [
    "***\n",
    "### map\n",
    "+ input 2개\n",
    "    - 함수, 리스트\n",
    "+ output\n",
    "    - 리스트. 각 원소는 인풋 리스트에 인풋 함수를 적용한 것들.\n",
    "+ 예)\n",
    "    - map(f, lst) 라고 하면\n",
    "    - output은 [f(), f(), ...]."
   ]
  },
  {
   "cell_type": "code",
   "execution_count": 6,
   "metadata": {
    "collapsed": false
   },
   "outputs": [
    {
     "data": {
      "text/plain": [
       "[3, 4, 5]"
      ]
     },
     "execution_count": 6,
     "metadata": {},
     "output_type": "execute_result"
    }
   ],
   "source": [
    "def f(x):\n",
    "    return x + 2\n",
    "\n",
    "list(map(f, [1, 2, 3]))"
   ]
  },
  {
   "cell_type": "markdown",
   "metadata": {},
   "source": [
    "***\n",
    "### comprehension\n",
    "+ 한방에 리스트/튜플/딕셔너리 만드는 방법"
   ]
  },
  {
   "cell_type": "code",
   "execution_count": 8,
   "metadata": {
    "collapsed": false
   },
   "outputs": [
    {
     "name": "stdout",
     "output_type": "stream",
     "text": [
      "{'b': 2, 'a': 1, 'c': 3}\n",
      "[0, 1, 2, 3, 4]\n",
      "[0, 1, 2, 3, 4]\n"
     ]
    }
   ],
   "source": [
    "# dict comprehension\n",
    "d = {'a': 1, 'b': 2, 'c': 3}\n",
    "\n",
    "lst = ['a', 'b', 'c']\n",
    "d = {lst[th]: th + 1 for th in range(len(lst))}\n",
    "\n",
    "print(d)\n",
    "\n",
    "# list comprehension\n",
    "\n",
    "lst = [0, 1, 2, 3, 4]\n",
    "\n",
    "# method 1\n",
    "lst = []\n",
    "for i in range(5):\n",
    "    lst.append(i)\n",
    "\n",
    "print(lst)\n",
    "\n",
    "# method 2: comprehension 사용\n",
    "lst = [i for i in range(5)]\n",
    "\n",
    "print(lst)"
   ]
  },
  {
   "cell_type": "markdown",
   "metadata": {},
   "source": [
    "***\n",
    "### series data type\n",
    "- list\n",
    "- tuple\n",
    "- array\n",
    "    - 숫자만 가능\n",
    "    - matrix, vector 등의 의미있는 숫자 덩어리"
   ]
  },
  {
   "cell_type": "markdown",
   "metadata": {},
   "source": [
    "***\n",
    "### 괄호\n",
    "+ ( )\n",
    "    - tuple\n",
    "    - 함수의 input들 감쌀 때\n",
    "    - not callable\n",
    "    reservoir(sdfsd)\n",
    "+ { }\n",
    "    - dict\n",
    "+ [ ]\n",
    "    - list\n",
    "    - index를 감쌀 때\n",
    "        ```\n",
    "        lst[idx]\n",
    "        lst[3: 5]\n",
    "        ```\n",
    "    - dict에서 key를 감쌀 때\n",
    "        ```\n",
    "        reservoir[n] = fib(n)\n",
    "        print(reservoir[n])\n",
    "        ```"
   ]
  },
  {
   "cell_type": "markdown",
   "metadata": {},
   "source": [
    "***\n",
    "### sublime text\n",
    "- 추천 에디터 (메모장)\n",
    "- https://www.sublimetext.com \n",
    "\n",
    "### 코딩 폰트\n",
    "- l i I 1 잘 구분\n",
    "- 0 o O 잘 구분"
   ]
  },
  {
   "cell_type": "markdown",
   "metadata": {},
   "source": [
    "***\n",
    "### 파일 읽기 쓰기\n",
    "- 파일 객체 만들어서 읽기 쓰기\n",
    "    ```\n",
    "    f = open(파일이름, 옵션)\n",
    "    ....\n",
    "    f.close()\n",
    "    ```\n",
    "- 파일 객체 만들어서 읽기 쓰기 2\n",
    "    - close 가 귀찮아서 만들어진 방법\n",
    "    ```\n",
    "    with open(파일이름, 옵션) as f:\n",
    "        lines = f.readlines() 등등등\n",
    "        f를 이용해서 똑같이 하면 됨.\n",
    "        close 안해도 됨\n",
    "    ```\n",
    "- pandas로 파일 읽는 방법\n",
    "    - column 별로 읽기\n",
    "    ```\n",
    "    import pandas as pd\n",
    "    df = pd.read_csv(파일이름, sep='\\t', names=['필드명1', '필드명2', ....])\n",
    "    ```\n",
    "    - df.필드명1 또는 df['필드명1'] 하면 필드명1에 해당하는 컬럼 데이터 나옴\n",
    "- numpy\n",
    "    - 파일 읽기\n",
    "        ```\n",
    "        arr =  np.loadtxt(\"aaa.txt\")\n",
    "        ```\n",
    "    - 파일 쓰기\n",
    "        ```\n",
    "        arr = 어떤 array. 얘를 파일로 쓰고싶다고 가정.\n",
    "        np.savetxt(\"파일이름\", arr, fmt=\"%d하든 %.2lf 하든...\")\n",
    "       ```"
   ]
  },
  {
   "cell_type": "markdown",
   "metadata": {},
   "source": [
    "***\n",
    "### 재귀 함수 (recursive function)\n",
    "- 어떤 함수를 정의할 때, 자기 자신을 정의에 사용하는 경우, 이 함수를 재귀함수라고 함.\n",
    "- 예) `fib(n) = fib(n-2) + fib(n-1)`\n",
    "- 재귀함수 주요 요소\n",
    "    - initial condition\n",
    "    - 재귀식\n",
    "        - `fib(n) = fib(n-2) + fib(n-1)` 이런 것들\n",
    "- 그러나... 재귀함수를 그냥 짜면 너무나도 느리다 ㅠ\n",
    "    - 중복 계산이 너무 많이 일어나기 때문\n",
    "    - 해결방법!\n",
    "        - dynamic programming\n",
    "            + reservoir 사용\n",
    "            + reservoir 에다가 미리 계산 완료되었던 값들을 저장\n",
    "            + 특징\n",
    "                - reservoir가 input, output에 모두 들어감!\n",
    "                - reservoir를 계속 keep 해두어야 하기 때문!\n",
    "        - tail recursion\n",
    "            + 끝의 값들만 보고 계산"
   ]
  },
  {
   "cell_type": "code",
   "execution_count": 32,
   "metadata": {
    "collapsed": false
   },
   "outputs": [
    {
     "name": "stdout",
     "output_type": "stream",
     "text": [
      "Compare three versions of fibonacci function.\n",
      "1. Naive fibonacci\n",
      "fib(40) = 165580141, time: 81.74 sec\n",
      "\n",
      "2. Dynamic programming\n",
      "fib(40) = 165580141, time: 0.00 sec\n",
      "\n",
      "3. Tail recursion\n",
      "fib(40) = 165580141, time: 0.00 sec\n",
      "\n"
     ]
    }
   ],
   "source": [
    "from time import time\n",
    "\n",
    "# Naive fibonacci\n",
    "def naive_fib(n):\n",
    "    if n == 0 or n == 1:\n",
    "        return 1\n",
    "    else:\n",
    "        return naive_fib(n - 2) + naive_fib(n - 1)\n",
    "    \n",
    "# Dynamic programming based fibonacci\n",
    "# reservoir is a dictionary whose\n",
    "#   - key = n\n",
    "#   - val = fib(n)\n",
    "def dynamic_fib(n, reservoir):\n",
    "    if n == 0 or n == 1:\n",
    "        reservoir[n] = 1\n",
    "        return 1, reservoir\n",
    "    else:\n",
    "        # Get fib(n - 2)\n",
    "        if (n - 2) in reservoir:\n",
    "            fib_n_2 = reservoir[n - 2]\n",
    "        else:\n",
    "            fib_n_2, reservoir = dynamic_fib(n - 2, reservoir)\n",
    "            \n",
    "        # Get fib(n - 1)\n",
    "        if (n - 1) in reservoir:\n",
    "            fib_n_1 = reservoir[n - 1]\n",
    "        else:\n",
    "            fib_n_1, reservoir = dynamic_fib(n - 1, reservoir)\n",
    "            \n",
    "        fib_n = fib_n_2 + fib_n_1\n",
    "        reservoir[n] = fib_n\n",
    "        \n",
    "        return fib_n, reservoir\n",
    "    \n",
    "# Tail recursion based fibonacci.\n",
    "# tail is a list that has two previous fibonacci numbers.\n",
    "def tail_fib(n, tail):\n",
    "    if n == 0 or n == 1:\n",
    "        f_n_1 = tail[0]\n",
    "        f_n_2 = tail[1]\n",
    "        f_n = f_n_1 + f_n_2\n",
    "        return f_n\n",
    "    else:\n",
    "        f_n_1 = tail[0]\n",
    "        f_n_2 = tail[1]\n",
    "        tail[0] = f_n_1 + f_n_2\n",
    "        tail[1] = f_n_1\n",
    "        return tail_fib(n - 1, tail)\n",
    "    \n",
    "\n",
    "print('Compare three versions of fibonacci function.')\n",
    "print('1. Naive fibonacci')\n",
    "start = time()\n",
    "fib_40 = naive_fib(40)\n",
    "end = time()\n",
    "print('fib(40) = %d, time: %.2lf sec' % (fib_40, end - start))\n",
    "print()\n",
    "\n",
    "print('2. Dynamic programming')\n",
    "start = time()\n",
    "reservoir = {}\n",
    "fib_40, reservoir = dynamic_fib(40, reservoir)\n",
    "end = time()\n",
    "print('fib(40) = %d, time: %.2lf sec' % (fib_40, end - start))\n",
    "print()\n",
    "\n",
    "print('3. Tail recursion')\n",
    "start = time()\n",
    "fib_40 = tail_fib(40, [1, 0])\n",
    "end = time()\n",
    "end = time()\n",
    "print('fib(40) = %d, time: %.2lf sec' % (fib_40, end - start))\n",
    "print()"
   ]
  },
  {
   "cell_type": "markdown",
   "metadata": {},
   "source": [
    "***\n",
    "### class\n",
    "- class는 복잡한 자료구조를 디자인하기 위해 씀!\n",
    "- class 구성 요소\n",
    "\t+ Attribute, field\n",
    "\t\t+ 데이터\n",
    "        + self.\\*\\*\\* 형식으로 사용\n",
    "\t+ Method, Function\n",
    "\t\t+ 함수들\n",
    "        + self가 항상 첫번째 인풋\n",
    "        + object.함수이름(\\*, \\*, ..) 으로 사용"
   ]
  },
  {
   "cell_type": "code",
   "execution_count": 35,
   "metadata": {
    "collapsed": false
   },
   "outputs": [
    {
     "name": "stdout",
     "output_type": "stream",
     "text": [
      "4\n",
      "OrderedDict([('Apple', 'Good'), ('Milk', 'Great'), ('Fish', 'Okay'), ('Chicken', 'Fine')])\n"
     ]
    }
   ],
   "source": [
    "# OrderedDict: 데이터 삽입 순서 기억하는 dictionary\n",
    "from collections import OrderedDict\n",
    "\n",
    "class Cat:\n",
    "\t# Initializer\n",
    "\t# __init__ 의 이름을 갖는 함수\n",
    "\tdef __init__(self):\n",
    "\t\t# Attributes\n",
    "\t\tself.name = \"untitled\"\n",
    "\t\tself.age = 0\n",
    "\t\tself.food_dict = OrderedDict()\n",
    "\n",
    "\t# Functions\n",
    "\tdef achieve_name(self, new_name):\n",
    "\t\tself.name = new_name\n",
    "\n",
    "\tdef acquire_food(self, new_food, new_taste):\n",
    "\t\tself.food_dict[new_food] = new_taste\n",
    "\t\tself.age += 1\n",
    "\n",
    "\tdef eat_many_food(self, food_lst, taste_lst):\n",
    "\t\tfor food, taste in zip(food_lst, taste_lst):\n",
    "\t\t\tself.food_dict[food] = taste\n",
    "\t\t\tself.age += 1\n",
    "\n",
    "\n",
    "kitty0 = Cat()\n",
    "kitty0.achieve_name('Gourmat')\n",
    "kitty0.acquire_food('Apple', 'Good')\n",
    "kitty0.eat_many_food(['Milk', 'Fish', 'Chicken'], ['Great', 'Okay', 'Fine'])\n",
    "print(kitty0.age)\n",
    "print(kitty0.food_dict)"
   ]
  }
 ],
 "metadata": {
  "anaconda-cloud": {},
  "kernelspec": {
   "display_name": "Python [conda root]",
   "language": "python",
   "name": "conda-root-py"
  },
  "language_info": {
   "codemirror_mode": {
    "name": "ipython",
    "version": 3
   },
   "file_extension": ".py",
   "mimetype": "text/x-python",
   "name": "python",
   "nbconvert_exporter": "python",
   "pygments_lexer": "ipython3",
   "version": "3.5.2"
  }
 },
 "nbformat": 4,
 "nbformat_minor": 2
}
