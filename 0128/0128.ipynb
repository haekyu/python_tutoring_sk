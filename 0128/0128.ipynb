{
 "cells": [
  {
   "cell_type": "markdown",
   "metadata": {},
   "source": [
    "## String format 보충\n",
    "- string formatting == 스트링 만드는 규칙\n",
    "- 예시) '%d' % (sdfsfd)\n",
    "- 기본 규칙\n",
    "    - %d: int\n",
    "    - %s: str\n",
    "    - %lf: float\n",
    "    - %r: boolean\n",
    "- 복잡한 포맷\n",
    "    + '%d' % 3 == '3'\n",
    "    + '%3d' % == '003'\n",
    "    + '%.2lf' % (3.141592) == '3.14'"
   ]
  },
  {
   "cell_type": "markdown",
   "metadata": {},
   "source": [
    "***\n",
    "### 재귀 (Recursive) function\n",
    "+ 재귀 함수의 중요한 요소\n",
    "    - initial condition\n",
    "        = 초기값\n",
    "        = fib(0) = 1\n",
    "        = fib(1) = 1\n",
    "    - recursive hypothesis\n",
    "        = 수식\n",
    "        = fib(n) = fib(n-1) + fib(n-2)\n",
    "+ 재귀 단점\n",
    "    + 잘못 만들면 엄청 느려요\n",
    "    + exponential time 걸린다.\n",
    "+ 해결 방법\n",
    "    + dynamic programming\n",
    "        + 내가 미리 구했던 값을 저장하고 사용\n",
    "        + 저장소 필요 == reservoir\n",
    "    + tail recursion"
   ]
  },
  {
   "cell_type": "code",
   "execution_count": 2,
   "metadata": {
    "collapsed": false
   },
   "outputs": [
    {
     "name": "stdout",
     "output_type": "stream",
     "text": [
      "165580141\n",
      "naive fib time: 69.86 sec\n"
     ]
    }
   ],
   "source": [
    "def fib(n):\n",
    "    # initial condition\n",
    "    # 없으면 RecursionError: maximum recursion depth exceeded\n",
    "    if n == 0:\n",
    "        return 1\n",
    "    elif n == 1:\n",
    "        return 1\n",
    "\n",
    "    # recursion\n",
    "    return fib(n - 1) + fib(n - 2)\n",
    "\n",
    "from time import time\n",
    "start = time()\n",
    "print(fib(40))\n",
    "end = time()\n",
    "print('naive fib time: %.2lf sec' % (end - start))"
   ]
  },
  {
   "cell_type": "markdown",
   "metadata": {},
   "source": [
    "***\n",
    "## list  보충 (함수 관련)\n",
    "+ insert(index, val)\n",
    "+ del lst[index]: lst의 index 번째의 값이 없어짐\n",
    "+ remove(val): 가장 첫번째에 있는 val을 지움\n",
    "+ index(val): 가장 첫번째에 있는 val의 index가 나옴"
   ]
  },
  {
   "cell_type": "markdown",
   "metadata": {},
   "source": [
    "***\n",
    "## Sort\n",
    "+ Bubble sort\n",
    "    - Max 값을 뒤에서부터 채우는 느낌\n",
    "    - 이중 for문 사용\n",
    "        + round 를 위한 for\n",
    "        + 각 round 안에서 sliding window가 흘러가는 것을 위한 for\n",
    "+ Insetion sort\n",
    "    - 앞 부분을 sorted list 로 만들어 쌓아가는 느낌\n",
    "    - 이중 for문 사용\n",
    "        + round 를 위한 for\n",
    "        + 각 round 안에서, 이미 sorted 된 list 내에 새 멤버를 어디에 insert 할 것인지를 찾기 위한 for\n",
    "+ 잘 모르겠으면 구글을 찾아보세요!"
   ]
  },
  {
   "cell_type": "markdown",
   "metadata": {},
   "source": [
    "### Bubble sort\n",
    "- lst의 맨 끝에 maximum 값을 채워 넣는 식으로 구현할 수 있다.\n",
    "- 이 때 크기 2짜리인 sliding window 가 움직이는 것으로 생각하고, window 안에서 원하는 조건일 때 원소를 swap (두 개의 원소를 자리바꿈) 한다.\n",
    "    - window는 아래 예시에서 [..., <span style=\"color:blue\">원소1, 원소2</span>, ...] 처럼 표시한다.\n",
    "- 예시) \n",
    "    + [5, 1, 2, 6, 2, 1, 3, 0] 가 주어졌다. \n",
    "    + round 0: [5, 1, 2, 6, 2, 1] 에서 최대값은 6이다. 목표는 6을 맨 뒤로 밀어 넣는 것.\n",
    "        * [<span style=\"color:blue\">5, 1</span>, 2, 6, 2, 1]: {5, 1} 에서 5가 크니까 뒤로 보낸다. 즉, 5와 1의 순서를 바꾼다.\n",
    "        * [<span style=\"color:blue\">1, 5</span>, 2, 6, 2, 1]: 이 되었다.\n",
    "        * [1, <span style=\"color:blue\">5, 2</span>, 6, 2, 1]: {5, 2} 에서 5가 크니까 뒤로 보낸다. 즉, 5와 2의 순서를 바꾼다.\n",
    "        * [1, <span style=\"color:blue\">2, 5</span>, 6, 2, 1]: 이 되었다.\n",
    "        * [1, 2, <span style=\"color:blue\">5, 6</span>, 2, 1]: {5, 6} 에서 6이 크니까 그대로 둔다.\n",
    "        * [1, 2, 5, <span style=\"color:blue\">6, 2</span>, 1]: {6, 2} 에서 6이 크니까 뒤로 보낸다. 즉, 6과 2의 순서를 바꾼다.\n",
    "        * [1, 2, 5, <span style=\"color:blue\">2, 6</span>, 1]: 이 되었다.\n",
    "        * [1, 2, 5, 2, <span style=\"color:blue\">6, 1</span>]: {6, 1} 에서 6이 크니까 뒤로 보낸다. 즉, 6과 1의 순서를 바꾼다.\n",
    "        * [1, 2, 5, 2, <span style=\"color:blue\">1, 6</span>]: 이 되었다. 끝에 도달했으니 round 0은 끝이 난다.\n",
    "    + round 1: [1, 2, 5, 2, 1, <span style=\"color:green\">6</span>] 에서 마지막 6을 제외하고 최대값은 5이다. 목표는 5를 6 바로 앞까지 뒤로 밀어 넣는 것.\n",
    "        * [<span style=\"color:blue\">1, 2</span>, 5, 2, 1, <span style=\"color:green\">6</span>]: {1, 2} 에서 순서가 잘 맞으니 그대로 둔다.\n",
    "        * [1, <span style=\"color:blue\">2, 5</span>, 2, 1, <span style=\"color:green\">6</span>]: {2, 5} 에서 순서가 잘 맞으니 그대로 둔다.\n",
    "        * [1, 2, <span style=\"color:blue\">5, 2</span>, 1, <span style=\"color:green\">6</span>]: {5, 2} 에서 순서가 뒤바뀌었으니 순서를 바꾼다.\n",
    "        * [1, 2, <span style=\"color:blue\">2, 5</span>, 1, <span style=\"color:green\">6</span>]: 가 되었다.\n",
    "        * [1, 2, 2, <span style=\"color:blue\">5, 1</span>, <span style=\"color:green\">6</span>]: {5, 1} 에서 순서가 뒤바뀌었으니 순서를 바꾼다.\n",
    "        * [1, 2, 2, <span style=\"color:blue\">1, 5</span>, <span style=\"color:green\">6</span>]: 가 되었다. 끝에 도달했으니 round 1은 끝이 난다.\n",
    "    + round 2: [1, 2, 2, 1, <span style=\"color:green\">5, 6</span>] 에서 목표는 2를 뒤로 밀어 넣는 것. 아래에는 자세한 설명을 생략하고 lst의 변화 양상만을 포함. \n",
    "        * [<span style=\"color:blue\">1, 2</span>, 2, 1, <span style=\"color:green\">5, 6</span>]\n",
    "        * [1, <span style=\"color:blue\">2, 2</span>, 1, <span style=\"color:green\">5, 6</span>]\n",
    "        * [1, 2, <span style=\"color:blue\">2, 1</span>, <span style=\"color:green\">5, 6</span>]: Swap 필요\n",
    "        * [1, 2, <span style=\"color:blue\">1, 2</span>, <span style=\"color:green\">5, 6</span>]: 가 되었다. 끝에 도달했으니 round 2는 끝이 난다.\n",
    "    + round 3: [1, 2, 1, <span style=\"color:green\">2, 5, 6</span>] 에서 목표는 2를 뒤로 밀어 넣는 것.\n",
    "        * [<span style=\"color:blue\">1, 2</span>, 1, <span style=\"color:green\">2, 5, 6</span>]\n",
    "        * [1, <span style=\"color:blue\">2, 1</span>, <span style=\"color:green\">2, 5, 6</span>]: Swap 필요\n",
    "        * [1, <span style=\"color:blue\">1, 2</span>, <span style=\"color:green\">2, 5, 6</span>]: 가 되었다. 끝에 도달했으니 round 3은 끝이 난다.\n",
    "    + round 4: [1, 1, <span style=\"color:green\">2, 2, 5, 6</span>]: 에서 목표는 1을 가장 뒤에 두는 것.\n",
    "        * [<span style=\"color:blue\">1, 1</span>, <span style=\"color:green\">2, 2, 5, 6</span>]: Swap 필요 없고, 끝에 도달했으니 round 4는 끝이 난다.\n",
    "    + 끝!"
   ]
  },
  {
   "cell_type": "markdown",
   "metadata": {},
   "source": [
    "### Insertion sort\n",
    "- lst 의 앞 부분에 sorted array를 완성시켜나가는 방식이다. 원소 하나씩 하나씩 앞 부분에 넣어간다.\n",
    "- 예시) \n",
    "    + [5, 1, 2, 6, 2, 1, 3, 0] 가 주어졌다. \n",
    "    + round 0: lst[0: 0 + 1] 부분을 sorted array로 만드는 것이 목표.\n",
    "        - [<span style=\"color:blue\">{</span>5<span style=\"color:blue\">}</span>, 1, 2, 5, 2, 1, 3, 0] 에서 {5}는 sorted 완료. round 0 완료.\n",
    "    + round 1: lst[0: 1 + 1] 부분을 sorted array로 만드는 것이 목표.\n",
    "        - [<span style=\"color:blue\">{</span>5<span style=\"color:blue\">}</span>, <span style=\"color:green\">1</span>, 2, 5, 2, 1, 3, 0] 에서 <span style=\"color:green\">1</span>을 sorted array 안에 넣는다.\n",
    "        - [<span style=\"color:blue\">{</span>1, 5<span style=\"color:blue\">}</span>, 2, 5, 2, 1, 3, 0] 이 된다. round 1 완료.\n",
    "    + round 2: lst[0: 2 + 1] 부분을 sorted array로 만드는 것이 목표.\n",
    "        - [<span style=\"color:blue\">{</span>1, 5<span style=\"color:blue\">}</span>, <span style=\"color:green\">2</span>, 5, 2, 1, 3, 0] 에서 <span style=\"color:green\">2</span> 를 sorted array 안에 넣는다.\n",
    "        - [<span style=\"color:blue\">{</span>1, 2, 5<span style=\"color:blue\">}</span>, 5, 2, 1, 3, 0] 이 된다. round 2 완료.\n",
    "    + round 3: lst[0: 3 + 1] 부분을 sorted array로 만드는 것이 목표.\n",
    "        - [<span style=\"color:blue\">{</span>1, 2, 5<span style=\"color:blue\">}</span>, 5, 2, 1, 3, 0] 에서\n",
    "        - [<span style=\"color:blue\">{</span>1, 2, 5, 5<span style=\"color:blue\">}</span>, 2, 1, 3, 0] 가 된다.\n",
    "    + round 4: lst[0: 4 + 1] 부분을 sorted array로 만드는 것이 목표.\n",
    "        - [<span style=\"color:blue\">{</span>1, 2, 5, 5<span style=\"color:blue\">}</span>, 2, 1, 3, 0] 에서\n",
    "        - [<span style=\"color:blue\">{</span>1, 2, 2, 5, 5<span style=\"color:blue\">}</span>, 1, 3, 0] 가 된다.\n",
    "    + round 5: lst[0: 5 + 1] 부분을 sorted array로 만드는 것이 목표.\n",
    "        - [<span style=\"color:blue\">{</span>1, 2, 2, 5, 5<span style=\"color:blue\">}</span>, 1, 3, 0] 에서\n",
    "        - [<span style=\"color:blue\">{</span>1, 1, 2, 2, 5, 5<span style=\"color:blue\">}</span>, 3, 0] 가 된다.\n",
    "    + round 6: lst[0: 6 + 1] 부분을 sorted array로 만드는 것이 목표.\n",
    "        - [<span style=\"color:blue\">{</span>1, 1, 2, 2, 5, 5<span style=\"color:blue\">}</span>, 3, 0] 에서\n",
    "        - [<span style=\"color:blue\">{</span>1, 1, 2, 2, 3, 5, 5<span style=\"color:blue\">}</span>, 0] 가 된다.\n",
    "    + round 7: lst[0: 7 + 1] 부분을 sorted array로 만드는 것이 목표.\n",
    "        - [<span style=\"color:blue\">{</span>1, 1, 2, 2, 3, 5, 5<span style=\"color:blue\">}</span>, 0] 에서\n",
    "        - [<span style=\"color:blue\">{</span>0, 1, 1, 2, 2, 3, 5, 5<span style=\"color:blue\">}</span>] 가 된다."
   ]
  },
  {
   "cell_type": "markdown",
   "metadata": {},
   "source": [
    "## array!\n",
    "+ import numpy as np\n",
    "+ list로 부터 만듦!\n",
    "    + np.array(lst)\n",
    "+ matrix\n",
    "    + M[row, col]\n",
    "    + M[:, col]\n",
    "    + np.matmul(M1, M2)\n",
    "+ 간단한 사칙연산\n",
    "    + map\n",
    "+ vector\n",
    "    + dot product\n",
    "+ axis\n",
    "    + axis = 0 --> 0번째 축을 따라 --> 0번째 축의 값만 변함 (나머지는 고정)"
   ]
  },
  {
   "cell_type": "code",
   "execution_count": 3,
   "metadata": {
    "collapsed": false
   },
   "outputs": [
    {
     "name": "stdout",
     "output_type": "stream",
     "text": [
      "[5 7 9]\n",
      "[ 6 15]\n"
     ]
    }
   ],
   "source": [
    "import numpy as np\n",
    "arr1 = np.array([[1, 2, 3], [4, 5, 6]])\n",
    "s = arr1.sum(axis=0)\n",
    "print(s)\n",
    "s = arr1.sum(axis=1)\n",
    "print(s)"
   ]
  }
 ],
 "metadata": {
  "anaconda-cloud": {},
  "kernelspec": {
   "display_name": "Python [conda root]",
   "language": "python",
   "name": "conda-root-py"
  },
  "language_info": {
   "codemirror_mode": {
    "name": "ipython",
    "version": 3
   },
   "file_extension": ".py",
   "mimetype": "text/x-python",
   "name": "python",
   "nbconvert_exporter": "python",
   "pygments_lexer": "ipython3",
   "version": "3.5.2"
  }
 },
 "nbformat": 4,
 "nbformat_minor": 2
}
