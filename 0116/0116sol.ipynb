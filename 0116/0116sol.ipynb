{
 "cells": [
  {
   "cell_type": "markdown",
   "metadata": {},
   "source": [
    "## 1. loop문 연습 1\n",
    "\n",
    "- 숫자로 구성된 리스트가 주어져 있을 때, 리스트 내 값들의 평균을 구해보기.<br>\n",
    "  예를 들어, lll = [1, -2, 5, 4, -3] 일 때 1을 프린트 해 보세요."
   ]
  },
  {
   "cell_type": "code",
   "execution_count": 3,
   "metadata": {
    "collapsed": false
   },
   "outputs": [
    {
     "name": "stdout",
     "output_type": "stream",
     "text": [
      "1.0\n"
     ]
    }
   ],
   "source": [
    "lst = [1, -2, 5, 4, -3]\n",
    "\n",
    "sum_of_elements = 0\n",
    "num_of_elements = 0\n",
    "\n",
    "idx = 0\n",
    "while idx < len(lst):\n",
    "    sum_of_elements += lst[idx]\n",
    "    num_of_elements += 1\n",
    "    idx = idx + 1\n",
    "    \n",
    "avg_of_elements = sum_of_elements / num_of_elements\n",
    "\n",
    "print(avg_of_elements)"
   ]
  },
  {
   "cell_type": "markdown",
   "metadata": {},
   "source": [
    "## string 연습 1\n",
    "- 스트링으로 된 문장 내부에 특정 word가 몇 번 포함되는지 찾기.\n",
    "- 예를 들어, sss 과 같은 문장이 주어져 있고, 'an' 이라는 단어가 sss 내부에 몇 번 나타나는지 찾기.\n",
    "    - sss = 'Love is an open door! Love is an open door! Life can be so much more!'<br>\n",
    "  일 때, an 이 두 번 있으니 2를 프린트하게 해 보세요.\n",
    "- str을 ' ' (띄어쓰기) 기준으로 잘라 list에 보관할 수 있습니다.\n",
    "    + 예) lst = sss.split(' ') 을 하게 되면<br>\n",
    "\t\tlst 는 ['Love', 'is', 'an', ...] 이 됩니다.\n",
    "- 아래의 skeleton code를 사용해도 됩니다.\n",
    "    ```\n",
    "    sss = 'Love is an open door! Love is an open door! Life can be so much more!'\n",
    "    lst = sss.split(' ')\n",
    "\n",
    "    idx = 0 # lst의 index 라는 뜻\n",
    "    num = 0 # 'an'의 개수라는 뜻\n",
    "    while ???:\n",
    "        if ???:\n",
    "            num = num + 1\n",
    "        idx = idx + 1\n",
    "    print(num)\n",
    "    ```"
   ]
  },
  {
   "cell_type": "code",
   "execution_count": 7,
   "metadata": {
    "collapsed": false
   },
   "outputs": [
    {
     "name": "stdout",
     "output_type": "stream",
     "text": [
      "2\n"
     ]
    }
   ],
   "source": [
    "sss = 'Love is an open door! Love is an open door! Life can be so much more!'\n",
    "lst = sss.split(' ')\n",
    "idx = 0\n",
    "num = 0\n",
    "while idx < len(lst):\n",
    "    if 'an' == lst[idx]:\n",
    "        num += 1\n",
    "    idx += 1\n",
    "print(num)"
   ]
  },
  {
   "cell_type": "code",
   "execution_count": null,
   "metadata": {
    "collapsed": true
   },
   "outputs": [],
   "source": []
  },
  {
   "cell_type": "code",
   "execution_count": null,
   "metadata": {
    "collapsed": true
   },
   "outputs": [],
   "source": []
  }
 ],
 "metadata": {
  "anaconda-cloud": {},
  "kernelspec": {
   "display_name": "Python [conda root]",
   "language": "python",
   "name": "conda-root-py"
  },
  "language_info": {
   "codemirror_mode": {
    "name": "ipython",
    "version": 3
   },
   "file_extension": ".py",
   "mimetype": "text/x-python",
   "name": "python",
   "nbconvert_exporter": "python",
   "pygments_lexer": "ipython3",
   "version": "3.5.2"
  }
 },
 "nbformat": 4,
 "nbformat_minor": 2
}
