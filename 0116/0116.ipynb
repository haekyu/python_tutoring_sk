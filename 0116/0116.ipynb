{
 "cells": [
  {
   "cell_type": "markdown",
   "metadata": {},
   "source": [
    "## 2018.01.16\n",
    "\n",
    "### Overview\n",
    "1. 복습\n",
    "    + 추가 내용\n",
    "3. 오늘 내용\n",
    "    - list\n",
    "    - if\n",
    "    - while\n",
    "    - function\n",
    "4. 다음시간\n",
    "    - for\n",
    "    - list, array, tuple\n",
    "        + 예제로 matrix\n",
    "    - 시간이 된다면: sorting 알고리즘\n",
    "5. etc\n",
    "    - Natural language > code > assembly > 0101...\n",
    "    - cmd/terminal ; 커맨드"
   ]
  },
  {
   "cell_type": "markdown",
   "metadata": {},
   "source": [
    "### 복습\n",
    "- 데이터 타입 변환 (== 형 변환)\n",
    "    + 234 -> '234' -> 234\n",
    "    + ex) int('234') -> 234\n",
    "    + ex) str(234) -> '234'\n",
    "    + ex) float(234) -> 234.0\n",
    "    + ex) int(234.7) -> 234\n",
    "- Primitive data type\n",
    "    + int\n",
    "        - +, -, *, /, //, %\n",
    "    + float\n",
    "    + string\n",
    "        * SLICING\n",
    "            + [from 이상: to **미만**]\n",
    "        * INDEXING\n",
    "            + -1 있다!\n",
    "            + -3: 마지막에서 세 번째 index를 말함\n",
    "            + index out of range ERR\n",
    "            + x = 'ABC'<br>\n",
    "                x[2] == 'C'<br>\n",
    "                x[-1] == 'C'<br>\n",
    "                x[len(x) - 1] == 'C'<br>\n",
    "                x[len(x)] 하면 *IndexError: string index out of range*\n",
    "    + Boolean\n",
    "        * not, and, or\n",
    "- Series data type\n",
    "    + LIST, array, tuple ...\n",
    "    + membership\n",
    "        - in\n",
    "        - not in \n",
    "        - cf) string도 membership 연산 할 수 있음!"
   ]
  },
  {
   "cell_type": "markdown",
   "metadata": {},
   "source": [
    "### LIST\n",
    "+ 순서가 있는 데이터\n",
    "    - 순서 -> index -> indexing / slicing\n",
    "+ 수정 가능\n",
    "+ 규칙\n",
    "    - 대괄호로 묶음 []\n",
    "    - , 로 element 구분\n",
    "+ 예시: [3, 4, 2, 1, 5, 3, 2]\n",
    "+ list 연산들\n",
    "    + len(): 길이\n",
    "    + append: element 하나를 list 끝에 붙이기\n",
    "        - lst = [1, 2, 3]\n",
    "        - lst.append('a')<br>\n",
    "          하면 lst == [1, 2, 3, 'a'] \n",
    "    + concatenation (+): list 두 개를 붙이기\n",
    "        - lst1 = ['a', 'b', 'c']<br>\n",
    "          lst2 = [1, 2, 3]<br>\n",
    "          lst3 = lst1 + lst2<br>\n",
    "          하면 lst3 == ['a', 'b', 'c', 1, 2, 3]\n",
    "    + multiplication (*): 곱하기\n",
    "        - lst1 = ['a', 'b', 'c']<br>\n",
    "          lst1 * 2 == ['a', 'b', 'c', 'a', 'b', 'c']\n",
    "    + sorting: 정렬하기\n",
    "        - lst2 = [45, 2, 3]<br>\n",
    "          lst2.sort()<br>\n",
    "          하면 lst2 == [2, 3, 45]\n",
    "    + indexing + assign\n",
    "        - lst2 = [2, 3, 45]<br>\n",
    "          lst2[0] = 23<br>\n",
    "          하면 lst2 == [23, 3, 45]\n",
    "    + slicing + assign\n",
    "        - lst2 = [23, 3, 45]<br>\n",
    "          lst2[0:2] = [2, 333]<br>\n",
    "          하면 lst2 == [2, 333, 45]\n",
    "+ list 특이한 점\n",
    "    - list 안에는 다양한 데이터 타입의 element가 포함될 수 있다.\n",
    "        - lst2[0] = [0, 0, 0]<br>\n",
    "          lst2[1] = 'a'<br>\n",
    "          하면 lst2 == [0, 'a', 0]\n",
    "        - 한 번 int list 라고 해서 string이 후에 못들어올 이유가 없음!\n",
    "    - 심지어... list 도 원소로 들어올 수 있음!\n",
    "        - lst2 = [0, 'a', 0]<br>\n",
    "          lst2[0] = [0, 0, 0]<br>\n",
    "          하면 lst2 == [[0, 0, 0], 'a', 0] 이 됨!!"
   ]
  },
  {
   "cell_type": "code",
   "execution_count": 3,
   "metadata": {
    "collapsed": false
   },
   "outputs": [
    {
     "name": "stdout",
     "output_type": "stream",
     "text": [
      "[60, 28, 64, 44, 6, 4]\n"
     ]
    }
   ],
   "source": [
    "lst = [30, 14, 32, 22, 3, 2]\n",
    "\n",
    "lst[0] = lst[0] * 2\n",
    "lst[1] = lst[1] * 2\n",
    "lst[2] = lst[2] * 2\n",
    "lst[3] = lst[3] * 2\n",
    "lst[4] = lst[4] * 2\n",
    "lst[5] = lst[5] * 2\n",
    "\n",
    "print(lst)"
   ]
  },
  {
   "cell_type": "markdown",
   "metadata": {},
   "source": [
    "### Tuple\n",
    "+ 순서가 있는 데이터\n",
    "+ 수정이 안됨 (상수)\n",
    "    - ex) tp[2] = 3333 --> X\n",
    "+ 규칙\n",
    "    - 소괄호로 묶음 ()\n",
    "    - , 로 element 구분\n",
    "+ 연산\n",
    "    - concatenation (+) : 튜플 두 개 붙이기\n",
    "    - 등등"
   ]
  },
  {
   "cell_type": "markdown",
   "metadata": {},
   "source": [
    "### 괄호\n",
    "+ [] : list의 시작과 끝, 인덱스(범위)를 묶어줄 때\n",
    "+ () : tuple, function의 argument를 묶어줄 때, 그냥 괄호 \n",
    "+ {} : dictionary에서 쓰임.\n",
    "+ 다른 언어에서의 괄호?\n",
    "        if (????) {\n",
    "            sdfsdfsdf\n",
    "        }"
   ]
  },
  {
   "cell_type": "markdown",
   "metadata": {},
   "source": [
    "### 변수 이름 붙이는 규칙\n",
    "- 띄어쓰기 X\n",
    "    + 사람들이 많이들 ' ' 대신 '_'(언더바) 씀.\n",
    "    + '.' 은 안됨\n",
    "- 한글 X\n",
    "- 영어는 대소문자 가능 / 구분\n",
    "    + ABC, Abc, aBC ... 다 다름\n",
    "- 숫자 가능하지만 숫자로 시작하면 안됨\n",
    "    + lst21 (O), 234234lst (X), sdf2342342432sfs (O)\n",
    "    + 숫자를 이름 중간에 넣는 흔한 예: 2 (== to) 사용, ex) a2b\n",
    "        + int2str => str()\n",
    "        + int를 str으로 바꾼다는 의미로 많이들 씀"
   ]
  },
  {
   "cell_type": "markdown",
   "metadata": {},
   "source": [
    "### If 문\n",
    "+ 어떤 조건이 True이면 해라\n",
    "+ Syntax\n",
    "        if <조건>:\n",
    "            DO\n",
    "    + if 소문자\n",
    "    + 조건 필요\n",
    "    + : 있어야함 조건 옆에\n",
    "    + 엔터->탭!!!! 있어야함\n",
    "        ```\n",
    "        if 조건:\n",
    "            do\n",
    "        ```\n",
    "        ```\n",
    "        if 조건:\n",
    "            do1\n",
    "        else:\n",
    "            do2\n",
    "        ```\n",
    "        ```\n",
    "        if <조건1>:\n",
    "            do1\n",
    "        else:\n",
    "            if <조건2>:\n",
    "                do2\n",
    "            else:\n",
    "                if <조건3>:\n",
    "                    do3\n",
    "                else:\n",
    "                    do4\n",
    "        ```\n",
    "        ```\n",
    "        if <조건1>:\n",
    "            do1\n",
    "        elif <조건2>:\n",
    "            do2\n",
    "        elif <조건3>:\n",
    "            do3\n",
    "        else:\n",
    "            do4\n",
    "        ```"
   ]
  },
  {
   "cell_type": "code",
   "execution_count": 5,
   "metadata": {
    "collapsed": false
   },
   "outputs": [
    {
     "name": "stdout",
     "output_type": "stream",
     "text": [
      "hello\n"
     ]
    }
   ],
   "source": [
    "# if x가 짝수이면:\n",
    "#     do\n",
    "\n",
    "x = 234\n",
    "if (x % 2 == 0):\n",
    "    print(\"hello\")"
   ]
  },
  {
   "cell_type": "code",
   "execution_count": 9,
   "metadata": {
    "collapsed": false
   },
   "outputs": [
    {
     "name": "stdout",
     "output_type": "stream",
     "text": [
      "...?\n"
     ]
    }
   ],
   "source": [
    "# if x 가 N_even 의 원소이면:\n",
    "#     do\n",
    "\n",
    "x = 28\n",
    "N_even = [2, 4, 6, 8, 10]\n",
    "\n",
    "if x in N_even:\n",
    "    print(\"hello\")\n",
    "else:\n",
    "    print(\"...?\")"
   ]
  },
  {
   "cell_type": "code",
   "execution_count": 10,
   "metadata": {
    "collapsed": false
   },
   "outputs": [
    {
     "ename": "NameError",
     "evalue": "name 'n' is not defined",
     "output_type": "error",
     "traceback": [
      "\u001b[0;31m---------------------------------------------------------------------------\u001b[0m",
      "\u001b[0;31mNameError\u001b[0m                                 Traceback (most recent call last)",
      "\u001b[0;32m<ipython-input-10-a2c1a76e7cb9>\u001b[0m in \u001b[0;36m<module>\u001b[0;34m()\u001b[0m\n\u001b[1;32m      1\u001b[0m \u001b[0mx\u001b[0m \u001b[0;34m=\u001b[0m \u001b[0;36m28\u001b[0m\u001b[0;34m\u001b[0m\u001b[0m\n\u001b[1;32m      2\u001b[0m \u001b[0mN_even\u001b[0m \u001b[0;34m=\u001b[0m \u001b[0;34m[\u001b[0m\u001b[0;36m2\u001b[0m\u001b[0;34m,\u001b[0m \u001b[0;36m4\u001b[0m\u001b[0;34m,\u001b[0m \u001b[0;36m6\u001b[0m\u001b[0;34m,\u001b[0m \u001b[0;36m8\u001b[0m\u001b[0;34m,\u001b[0m \u001b[0;36m10\u001b[0m\u001b[0;34m]\u001b[0m\u001b[0;34m\u001b[0m\u001b[0m\n\u001b[0;32m----> 3\u001b[0;31m \u001b[0;32mif\u001b[0m \u001b[0;34m(\u001b[0m\u001b[0mx\u001b[0m \u001b[0;34m==\u001b[0m \u001b[0;36m2\u001b[0m\u001b[0;34m*\u001b[0m\u001b[0mn\u001b[0m\u001b[0;34m)\u001b[0m\u001b[0;34m:\u001b[0m\u001b[0;34m\u001b[0m\u001b[0m\n\u001b[0m\u001b[1;32m      4\u001b[0m     \u001b[0mprint\u001b[0m\u001b[0;34m(\u001b[0m\u001b[0;34m\"hello\"\u001b[0m\u001b[0;34m)\u001b[0m\u001b[0;34m\u001b[0m\u001b[0m\n",
      "\u001b[0;31mNameError\u001b[0m: name 'n' is not defined"
     ]
    }
   ],
   "source": [
    "x = 28\n",
    "N_even = [2, 4, 6, 8, 10]\n",
    "if (x == 2*n):\n",
    "    print(\"hello\")"
   ]
  },
  {
   "cell_type": "markdown",
   "metadata": {},
   "source": [
    "### While\n",
    "```\n",
    "while 조건:\n",
    "    do\n",
    "```\n",
    "+ 조건이 맞을 때까지 do를 해라"
   ]
  },
  {
   "cell_type": "code",
   "execution_count": 11,
   "metadata": {
    "collapsed": false
   },
   "outputs": [
    {
     "name": "stdout",
     "output_type": "stream",
     "text": [
      "0\n",
      "2\n",
      "4\n",
      "6\n",
      "8\n",
      "7sfsdfsdfdsf\n"
     ]
    }
   ],
   "source": [
    "i = 0\n",
    "\n",
    "while i < 10:\n",
    "    if i % 2 == 0:\n",
    "        print(i)\n",
    "    # i = i - 10 # 무한루프\n",
    "    i = i + 1\n",
    "\n",
    "print(\"7sfsdfsdfdsf\")"
   ]
  },
  {
   "cell_type": "markdown",
   "metadata": {},
   "source": [
    "### Function\n",
    "- Syntax\n",
    "```\n",
    "def 함수이름(Arguments):\n",
    "    do \n",
    "    return ***\n",
    "```\n",
    "- 용어\n",
    "    + Argument / parameter\n",
    "        - input 변수(들)\n",
    "    + Default parameter\n",
    "        - 기본값이 셋팅된 파라미터\n",
    "        - 뒷쪽만 default parameter 셋팅 가능\n",
    "        - input argument를 줄 때 앞에서부터 채워가기 때문\n",
    "    + return\n",
    "        - output 던져주는 행위\n",
    "- 예시\n",
    "```\n",
    "# f(x) = x + 2\n",
    "def f(x):\n",
    "    return x + 2\n",
    "```\n",
    "```\n",
    "# f(x, y) = x + y\n",
    "def f(x, y):\n",
    "    z = x + y\n",
    "    print(\"내가 z 구했어\")\n",
    "    print(z)\n",
    "    return z\n",
    "```\n",
    "```\n",
    "def f(x, y=0):\n",
    "    # 여기서 y는 default parameter\n",
    "    z = x + y\n",
    "    # print(\"내가 z 구했어\")\n",
    "    # print(z)\n",
    "    return z\n",
    "```\n",
    "    "
   ]
  },
  {
   "cell_type": "code",
   "execution_count": null,
   "metadata": {
    "collapsed": true
   },
   "outputs": [],
   "source": []
  }
 ],
 "metadata": {
  "anaconda-cloud": {},
  "kernelspec": {
   "display_name": "Python [conda root]",
   "language": "python",
   "name": "conda-root-py"
  },
  "language_info": {
   "codemirror_mode": {
    "name": "ipython",
    "version": 3
   },
   "file_extension": ".py",
   "mimetype": "text/x-python",
   "name": "python",
   "nbconvert_exporter": "python",
   "pygments_lexer": "ipython3",
   "version": "3.5.2"
  }
 },
 "nbformat": 4,
 "nbformat_minor": 2
}
