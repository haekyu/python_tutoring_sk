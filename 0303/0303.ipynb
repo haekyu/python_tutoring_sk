{
 "cells": [
  {
   "cell_type": "markdown",
   "metadata": {},
   "source": [
    "### Overview\n",
    "- DFS / BFS\n",
    "- GUI with python"
   ]
  },
  {
   "cell_type": "markdown",
   "metadata": {},
   "source": [
    "### DFS\n",
    "- Depth First Search\n",
    "- 길 찾는 방법 중 하나.\n",
    "- 깊게 들어갈 수 있을 때까지 들어가고, 들어갈 곳이 없다면 다시 나오는 알고리즘.\n",
    "- 스택 사용\n",
    "\n",
    "### BFS\n",
    "- Breadth First Search\n",
    "- 길 찾는 방법 중 하나.\n",
    "- 깊이 1인 모든 노드 방문 > 깊이 2인 모든 노드 방문 > .... \n",
    "- 큐 사용"
   ]
  },
  {
   "cell_type": "markdown",
   "metadata": {},
   "source": [
    "## GUI with python\n",
    "- qtdesigner\n",
    "    - \\*.ui 파일 생성\n",
    "    - 전체 Form의 레이아웃 생성\n",
    "    - 각 object의 이름을 잘 알아야 함! 파이썬 코드 짜기 위해서는 필수\n",
    "- python 코드 만들기\n",
    "    - ui 파일 load\n",
    "    - event 핸들링 부분 추가해 줘야함\n",
    "        - event: 클릭 등의 입력\n",
    "        - event handling: event 처리\n",
    "    - pyqt에서 명칭\n",
    "        - signal: event\n",
    "        - slot: event handling 하는 함수\n",
    "        \n",
    "    ```python\n",
    "    import sys\n",
    "    from PyQt5.QtWidgets import *\n",
    "    from PyQt5 import uic\n",
    "    \n",
    "    form_class = uic.loadUiType(\".ui 파일 경로\")[0]\n",
    "    \n",
    "    class Form(QMainWindow, form_class):\n",
    "        def __init__(self):\n",
    "            super().__init__()\n",
    "            self.setupUi(self)\n",
    "            \"...\"\n",
    "        \n",
    "        def any_slot(self):\n",
    "            \"...\"\n",
    "            \n",
    "    if __name__ == \"__main__\":\n",
    "        app = QApplication(sys.argv)\n",
    "        myWindow = Form()\n",
    "        myWindow.show()\n",
    "        app.exec_()\n",
    "\n",
    "    ```"
   ]
  }
 ],
 "metadata": {
  "anaconda-cloud": {},
  "kernelspec": {
   "display_name": "Python [conda root]",
   "language": "python",
   "name": "conda-root-py"
  },
  "language_info": {
   "codemirror_mode": {
    "name": "ipython",
    "version": 3
   },
   "file_extension": ".py",
   "mimetype": "text/x-python",
   "name": "python",
   "nbconvert_exporter": "python",
   "pygments_lexer": "ipython3",
   "version": "3.5.2"
  }
 },
 "nbformat": 4,
 "nbformat_minor": 2
}
