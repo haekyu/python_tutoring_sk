{
 "cells": [
  {
   "cell_type": "markdown",
   "metadata": {},
   "source": [
    "## Overview\n",
    "- plot 그리기\n",
    "    - `import matplotlib.pyplot as plt`\n",
    "- 정규 표현"
   ]
  },
  {
   "cell_type": "markdown",
   "metadata": {},
   "source": [
    "## Line plot\n",
    "- plt.plot(arr of x, arr of y)\n",
    "- (x, y) 의 line 을 그려줌\n",
    "- 참고: https://matplotlib.org/api/_as_gen/matplotlib.pyplot.plot.html\n",
    "- 옵션\n",
    "    - color\n",
    "    - linestyle\n",
    "    - marker\n",
    "    - markersize\n",
    "    - etc..."
   ]
  },
  {
   "cell_type": "code",
   "execution_count": 37,
   "metadata": {
    "collapsed": false
   },
   "outputs": [
    {
     "data": {
      "image/png": "[encoded data removed]",
      "text/plain": [
       "<matplotlib.figure.Figure at 0x10f8bf7b8>"
      ]
     },
     "metadata": {},
     "output_type": "display_data"
    }
   ],
   "source": [
    "import numpy as np\n",
    "import matplotlib.pyplot as plt\n",
    "\n",
    "x = sorted(np.random.rand(100))\n",
    "y = np.array(list(map(lambda x: x ** 2, x)))\n",
    "\n",
    "plt.plot(x, y, color='green', linestyle='-', marker='+', markersize=10)\n",
    "plt.show()\n",
    "plt.clf()"
   ]
  },
  {
   "cell_type": "markdown",
   "metadata": {},
   "source": [
    "## Scatter plot\n",
    "- plt.scatter(arr of x, arr of y)\n",
    "- (x, y) 들을 찍어줌\n",
    "- 참고: https://matplotlib.org/api/_as_gen/matplotlib.pyplot.scatter.html\n",
    "- 옵션\n",
    "    - color\n",
    "    - marker\n",
    "    - size\n",
    "    - etc..."
   ]
  },
  {
   "cell_type": "code",
   "execution_count": 54,
   "metadata": {
    "collapsed": false
   },
   "outputs": [
    {
     "data": {
      "image/png": "[encoded data removed]",
      "text/plain": [
       "<matplotlib.figure.Figure at 0x1101c8978>"
      ]
     },
     "metadata": {},
     "output_type": "display_data"
    }
   ],
   "source": [
    "import matplotlib.pyplot as plt\n",
    "\n",
    "x = sorted(np.random.rand(100))\n",
    "y = np.array(list(map(lambda x: x ** 2, x)))\n",
    "\n",
    "plt.scatter(x, y, color='pink', marker='^', s=20)\n",
    "\n",
    "plt.show()\n",
    "plt.clf()"
   ]
  },
  {
   "cell_type": "markdown",
   "metadata": {},
   "source": [
    "## Histograms\n",
    "- plt.hist(data)\n",
    "- data의 histogram을 그려줌\n",
    "- 참고: https://matplotlib.org/api/_as_gen/matplotlib.pyplot.hist.html"
   ]
  },
  {
   "cell_type": "code",
   "execution_count": 58,
   "metadata": {
    "collapsed": false
   },
   "outputs": [
    {
     "data": {
      "image/png": "[encoded data removed]",
      "text/plain": [
       "<matplotlib.figure.Figure at 0x1123a8160>"
      ]
     },
     "metadata": {},
     "output_type": "display_data"
    }
   ],
   "source": [
    "import matplotlib.pyplot as plt\n",
    "\n",
    "x = np.random.rand(100)\n",
    "plt.hist(x, histtype='bar')\n",
    "plt.show()\n",
    "plt.clf()"
   ]
  },
  {
   "cell_type": "markdown",
   "metadata": {},
   "source": [
    "## Labels\n",
    "- 축 이름 넣기"
   ]
  },
  {
   "cell_type": "code",
   "execution_count": 1,
   "metadata": {
    "collapsed": false
   },
   "outputs": [
    {
     "data": {
      "image/png": "[encoded data removed]",
      "text/plain": [
       "<matplotlib.figure.Figure at 0x1066abc18>"
      ]
     },
     "metadata": {},
     "output_type": "display_data"
    }
   ],
   "source": [
    "import numpy as np\n",
    "import matplotlib.pyplot as plt\n",
    "\n",
    "x = sorted(np.random.rand(100))\n",
    "y = np.array(list(map(lambda x: x ** 2, x)))\n",
    "\n",
    "plt.scatter(x, y, color='pink', marker='^', s=20)\n",
    "\n",
    "plt.xlabel('x')\n",
    "plt.ylabel(r'$x ^ 2$')\n",
    "\n",
    "plt.show()\n",
    "plt.clf()\n"
   ]
  },
  {
   "cell_type": "markdown",
   "metadata": {
    "collapsed": true
   },
   "source": [
    "## 정규표현\n",
    "- 영어로 regular expression / regex\n",
    "- 특정한 패턴을 가진 문자열을 표현하는 데 사용하는 언어\n",
    "- 문자열 검색 / 치환 할 때 자주 쓰임\n",
    "- 규칙들\n",
    "\n",
    "| 표현 | 뜻  |\n",
    "|-----|----|\n",
    "|  .  | 모든 문자   |\n",
    "| [ ] | 패턴 디자인  |\n",
    "| [^ ...] | not ... |\n",
    "| ^x | 문자열의 시작에 존재하는 x |\n",
    "| x$ | 문자열의 끝에 존재하는 x |\n",
    "| * | 0번 이상 |\n",
    "| + | 1번 이상 |\n",
    "| ( ) | 캡쳐 |\n",
    "| \\n | n번째로 캡쳐한 것을 부를 때 |\n",
    "| \\d | 숫자 |\n",
    "| \\D | 숫자가 아닌 것 |\n",
    "| \\w | 알파벳 및 언더바 (_) |\n",
    "| \\W | not \\w |\n",
    "| \\s | white space |\n",
    "| \\S | white space가 아닌 것|"
   ]
  },
  {
   "cell_type": "code",
   "execution_count": 33,
   "metadata": {
    "collapsed": false
   },
   "outputs": [
    {
     "name": "stdout",
     "output_type": "stream",
     "text": [
      "--------------- input string ---------------\n",
      "Kim Chulsoo\t010-0000-0000\t1999.9.9\n",
      "Lee Yeongsoo\t010-2222-2222\t2000.1.23\n",
      "--------------- 전화번호 검색 ---------------\n",
      "['010-0000-0000', '010-2222-2222']\n",
      "--------------- 영어 이름 검색 ---------------\n",
      "['Kim Chulsoo', 'Lee Yeongsoo']\n",
      "--------------- 영어 이름 수정 ---------------\n",
      "Chulsoo Kim\t010-0000-0000\t1999.9.9\n",
      "Yeongsoo Lee\t010-2222-2222\t2000.1.23\n"
     ]
    }
   ],
   "source": [
    "import re # regular expression을 위한 library\n",
    "\n",
    "sample_text = \"Kim Chulsoo\\t010-0000-0000\\t1999.9.9\\nLee Yeongsoo\\t010-2222-2222\\t2000.1.23\"\n",
    "print('-' * 15, 'input string', '-' * 15)\n",
    "print(sample_text)\n",
    "\n",
    "print('-' * 15, '전화번호 검색', '-' * 15)\n",
    "regex_for_phone_number = re.compile(r'\\d{3}-\\d{4}-\\d{4}')\n",
    "phone_numbers = regex_for_phone_number.findall(sample_text)\n",
    "print(phone_numbers)\n",
    "\n",
    "print('-' * 15, '영어 이름 검색', '-' * 15)\n",
    "regex_for_name = re.compile(r'[a-zA-Z]+ [a-zA-Z]+')\n",
    "names = regex_for_name.findall(sample_text)\n",
    "print(names)\n",
    "\n",
    "print('-' * 15, '영어 이름 수정', '-' * 15)\n",
    "regex_for_name = re.compile(r'([a-zA-Z]+) ([a-zA-Z]+)')\n",
    "sample_text = regex_for_name.sub(r'\\2 \\1', sample_text)\n",
    "print(sample_text)\n"
   ]
  },
  {
   "cell_type": "code",
   "execution_count": null,
   "metadata": {
    "collapsed": true
   },
   "outputs": [],
   "source": []
  }
 ],
 "metadata": {
  "anaconda-cloud": {},
  "kernelspec": {
   "display_name": "Python [conda root]",
   "language": "python",
   "name": "conda-root-py"
  },
  "language_info": {
   "codemirror_mode": {
    "name": "ipython",
    "version": 3
   },
   "file_extension": ".py",
   "mimetype": "text/x-python",
   "name": "python",
   "nbconvert_exporter": "python",
   "pygments_lexer": "ipython3",
   "version": "3.5.2"
  }
 },
 "nbformat": 4,
 "nbformat_minor": 2
}
