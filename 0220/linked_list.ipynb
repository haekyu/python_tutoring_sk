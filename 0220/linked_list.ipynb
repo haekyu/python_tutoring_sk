{
 "cells": [
  {
   "cell_type": "code",
   "execution_count": 41,
   "metadata": {
    "collapsed": false
   },
   "outputs": [],
   "source": [
    "class Node:\n",
    "    def __init__(self):\n",
    "        self.val = 0\n",
    "        self.next = None\n",
    "\n",
    "    def get_val(self):\n",
    "        return self.val\n",
    "\n",
    "    def get_next(self):\n",
    "        return self.next\n",
    "\n",
    "    def set_val(self, new_val):\n",
    "        self.val = new_val\n",
    "\n",
    "    def set_next(self, next_node):\n",
    "        self.next = next_node\n",
    "\n",
    "\n",
    "class Linked_list:\n",
    "    def __init__(self):\n",
    "        self.root = None\n",
    "        self.num = 0\n",
    "\n",
    "    def get_node(self, idx):\n",
    "        curr = self.root\n",
    "        for i in range(idx):\n",
    "            curr = curr.get_next()\n",
    "        return curr\n",
    "\n",
    "    def insert(self, idx, val):\n",
    "        new_node = Node()\n",
    "        new_node.set_val(val)\n",
    "        \n",
    "        if self.num == 0:\n",
    "            self.root = new_node\n",
    "            self.root.set_next(self.root)\n",
    "        elif idx == 0:\n",
    "            new_node.set_next(self.root)\n",
    "            self.root = new_node\n",
    "        else:\n",
    "            idx_minus_1_node = self.get_node(idx - 1)\n",
    "            new_node.set_next(idx_minus_1_node.get_next())\n",
    "            idx_minus_1_node.set_next(new_node)\n",
    "        self.num += 1\n",
    "\n",
    "    def delete(self, idx):\n",
    "        if idx > self.num:\n",
    "            print(\"ERR: Idx out of range\")\n",
    "            return None\n",
    "\n",
    "        if self.num == 1:\n",
    "            self.root = None\n",
    "\n",
    "        if idx == 0:\n",
    "            one_th_node = self.root.get_next()\n",
    "            last_node = self.get_node(self.num - 1)\n",
    "            last_node.set_next(one_th_node)\n",
    "            self.root = one_th_node\n",
    "        else:\n",
    "            idx_minus_1_th_node = self.get_node(idx - 1)\n",
    "            idx_plus_1_th_node = idx_minus_1_th_node.get_next().get_next()\n",
    "            idx_minus_1_th_node.set_next(idx_plus_1_th_node)\n",
    "\n",
    "        self.num -= 1\n",
    "\n",
    "    def pretty_print(self):\n",
    "        curr = self.root\n",
    "        for i in range(self.num):\n",
    "            print(curr.get_val(), end=\", \")\n",
    "            curr = curr.get_next()\n",
    "        print()"
   ]
  },
  {
   "cell_type": "code",
   "execution_count": 42,
   "metadata": {
    "collapsed": false
   },
   "outputs": [
    {
     "name": "stdout",
     "output_type": "stream",
     "text": [
      "a, \n",
      "a, b, \n",
      "a, b, c, \n",
      "10, a, b, c, \n",
      "a, b, c, \n",
      "a, c, \n"
     ]
    }
   ],
   "source": [
    "ll = Linked_list()\n",
    "ll.insert(0, \"a\")\n",
    "ll.pretty_print()\n",
    "ll.insert(1, \"b\")\n",
    "ll.pretty_print()\n",
    "ll.insert(2, \"c\")\n",
    "ll.pretty_print()\n",
    "ll.insert(0, \"10\")\n",
    "ll.pretty_print()\n",
    "ll.delete(0)\n",
    "ll.pretty_print()\n",
    "ll.delete(1)\n",
    "ll.pretty_print()"
   ]
  },
  {
   "cell_type": "code",
   "execution_count": null,
   "metadata": {
    "collapsed": true
   },
   "outputs": [],
   "source": []
  }
 ],
 "metadata": {
  "anaconda-cloud": {},
  "kernelspec": {
   "display_name": "Python [conda root]",
   "language": "python",
   "name": "conda-root-py"
  },
  "language_info": {
   "codemirror_mode": {
    "name": "ipython",
    "version": 3
   },
   "file_extension": ".py",
   "mimetype": "text/x-python",
   "name": "python",
   "nbconvert_exporter": "python",
   "pygments_lexer": "ipython3",
   "version": "3.5.2"
  }
 },
 "nbformat": 4,
 "nbformat_minor": 2
}
