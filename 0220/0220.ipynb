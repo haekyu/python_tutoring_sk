{
 "cells": [
  {
   "cell_type": "markdown",
   "metadata": {},
   "source": [
    "## Overview\n",
    "- 자료구조\n",
    "- HTML\n",
    "- 크롤링\n",
    "- Parsing"
   ]
  },
  {
   "cell_type": "markdown",
   "metadata": {},
   "source": [
    "## 자료구조\n",
    "- Stack *\n",
    "    - first in last out의 철학을 가지고 있는 list\n",
    "    - push(item)\n",
    "    - pop()\n",
    "- Queue *\n",
    "    - first in first out의 철학을 가지고 있는 list\n",
    "    - enqueue(item)\n",
    "    - dequeue()\n",
    "- Linked list *\n",
    "    - head 노드만 가지고 있는 것으로 구현\n",
    "        - 나머지 노드는 head를 통해 줄줄이 찾아갈 수 있음\n",
    "    - node 여러 개로 이루어진 list\n",
    "    - node는 두 개의 값을 갖고 있음\n",
    "        - val\n",
    "        - next node\n",
    "- Tree\n",
    "    - node 간의 상하관계가 뚜렷한 graph\n",
    "- Graph\n",
    "    - network\n",
    "    - node + edge\n",
    "    - weighted graph\n",
    "    - signed graph\n",
    "    - directed graph\n",
    "- Hash Table\n",
    "    - dict()"
   ]
  },
  {
   "cell_type": "code",
   "execution_count": 2,
   "metadata": {
    "collapsed": true
   },
   "outputs": [],
   "source": [
    "class Stack:\n",
    "    def __init__(self):\n",
    "        self.stack = []\n",
    "        self.num = 0\n",
    "        \n",
    "    def push(self, item):\n",
    "        self.stack.append(item)\n",
    "        self.num += 1\n",
    "        \n",
    "    def pop(self):\n",
    "        last = self.stack[-1]\n",
    "        del stack[-1]\n",
    "        self.num -= 1\n",
    "        return last"
   ]
  },
  {
   "cell_type": "code",
   "execution_count": 3,
   "metadata": {
    "collapsed": true
   },
   "outputs": [],
   "source": [
    "class Queue:\n",
    "    def __init__(self):\n",
    "        self.que = []\n",
    "        self.num = len(self.que)\n",
    "\n",
    "    def enqueue(self, item):\n",
    "        self.que += [item]\n",
    "        self.num = len(self.num)\n",
    "\n",
    "    def dequeue(self):\n",
    "        rmitem = self.que[0]\n",
    "        del self.que[0]\n",
    "        self.num -= 1\n",
    "        return rmitem"
   ]
  },
  {
   "cell_type": "code",
   "execution_count": 4,
   "metadata": {
    "collapsed": true
   },
   "outputs": [],
   "source": [
    "class node:\n",
    "    def __init__(self):\n",
    "        self.value = 0\n",
    "        self.nxt = None\n",
    "\n",
    "    # GET 류 함수\n",
    "    def get_val(self):\n",
    "        return self.value\n",
    "\n",
    "    def get_nxt(self):\n",
    "        return self.nxt\n",
    "\n",
    "    # SET 류 함수\n",
    "    def set_val(self, new_item):\n",
    "        self.value = new_item\n",
    "\n",
    "    def set_nxt(self, nxt):\n",
    "        self.nxt = nxt"
   ]
  },
  {
   "cell_type": "code",
   "execution_count": 5,
   "metadata": {
    "collapsed": true
   },
   "outputs": [],
   "source": [
    "class linked:\n",
    "    def __init__(self):\n",
    "        self.head = None\n",
    "        self.num = 0\n",
    "\n",
    "    def get_head(self):\n",
    "        return self.head\n",
    "\n",
    "    def get_num(self):\n",
    "        return self.num\n",
    "\n",
    "    def set_head(self, h):\n",
    "        self.head = h\n",
    "\n",
    "    def set_num(self, number):\n",
    "        self.num = number\n",
    "\n",
    "    def index_return(self, idx):\n",
    "        curr = self.get_head()\n",
    "        for i in range(idx):\n",
    "            curr = curr.get_nxt()\n",
    "        return curr\n",
    "\n",
    "    def insert(self, idx, item):\n",
    "        ...\n",
    "\n",
    "    def pretty_print(self):\n",
    "        curr = self.head\n",
    "        for i in range(self.num):\n",
    "            print(curr.get_val, end=\" \")\n",
    "            curr = curr.get_nxt()\n"
   ]
  },
  {
   "cell_type": "markdown",
   "metadata": {},
   "source": [
    "## HTML\n",
    "- 구성 요소\n",
    "    - Element\n",
    "        - html에서 시작 tag와 종료 tag로 묶인 명령어들\n",
    "    - Tag\n",
    "        - Element의 시작과 끝을 알림.\n",
    "        - 시작 tag\n",
    "        - 종료 tag\n",
    "    - Attributes\n",
    "        - Elements의 속성 옵션\n",
    "        - 색을 지정하거나.. 등등 다양한 옵션을 줄 수 있음.\n",
    "    - Arguments\n",
    "        - Attributes의 옵션 인풋 값\n",
    "    - ex) `<p align=\"center\">` ... `</p>` 에서\n",
    "        - `<p align=\"center\">` ... `</p>` : Elements\n",
    "        - `<p align=\"center\">` : 시작 tag\n",
    "        - `</p>` : 종료 tag\n",
    "        - align : attributes\n",
    "        - argument: \"center\""
   ]
  },
  {
   "cell_type": "markdown",
   "metadata": {},
   "source": [
    "## Crawling\n",
    "- html 소스 가져오기\n",
    "\t- requests 라는 라이브러리 사용\n",
    "\t```python\n",
    "\timport requests\n",
    "\treq = requests.get('웹 주소')\n",
    "\thtml_text = req.text\n",
    "\tstatus = req.status_code # 200: 정상\n",
    "\t```\n",
    "- html 소스 파싱하기\n",
    "\t- Parsing: raw data를 내가 원하는 모양으로 가공하기\n",
    "\t- BeautifulSoup 이라는 라이브러리 사용\n",
    "\t\t```python\n",
    "\t\tfrom bs4 import BeautifulSoup\n",
    "\t\t'''\n",
    "\t\tsoup: a parser whose\n",
    "\t\t\t- input1: html text\n",
    "\t\t\t- input2: html parser를 사용한다는 뜻.\n",
    "\t\t'''\n",
    "\t\tsoup = BeautifulSoup(html_text, 'html.parser')\n",
    "\t\t```\n",
    "\t- 원하는 정보의 태그 정보 얻기\n",
    "\t\t+ Chrome 의 검사 도구 사용!\n",
    "\t\t+ 순서\n",
    "\t\t\t- Chrome 켜기\n",
    "\t\t\t- 원하는 웹사이트 방문\n",
    "\t\t\t- 원하는 텍스트 위치에서 마우스 오른쪽 > 검사 클릭\n",
    "\t\t\t- 우측 하이라이트 된 element에서 마우스 오른쪽 > Copy > Copy selector 클릭\n",
    "\t\t\t- 아무데나 붙여넣기 해봄\n",
    "\t\t\t\t- ex) #content > table > tbody > tr:nth-child(2) > td.title > a\n",
    "\t\t\t\t- 위에서 nth-child(2) 는 그냥 어떤 것의 2번째 child라는 뜻. 리스트의 두번째라서 저렇게 나온 것일 듯. 신경 쓰지 X\n",
    "\t\t\t- 원하는 태그 정보 추출!\n",
    "\t\t\t\t- ex) table > tbody > tr > td.title > a\n",
    "\t- 태그를 통해 원하는 텍스트들 추출\n",
    "\t\t+ elements 리스트 얻음\n",
    "\t\t\t- ex) \n",
    "\t\t\t\t```python\n",
    "\t\t\t\twebtoon_titles = soup.select('tr > td.title > a')\n",
    "\t\t\t\t```\n",
    "\t\t\t- ```python\n",
    "              >>> webtoon_titles[0]\n",
    "              <a href=\"/webtoon/detail.nhn?titleId=650305&amp;no=146&amp;weekday=sat\" onclick=\"clickcr(this,'lst.title','650305','146',event)\">2부63화 복수2</a>\n",
    "              \n",
    "              >>> webtoon_titles[0].text\n",
    "              '2부63화 복수2'\n",
    "              ```\n",
    "              "
   ]
  },
  {
   "cell_type": "code",
   "execution_count": 1,
   "metadata": {
    "collapsed": false
   },
   "outputs": [
    {
     "name": "stdout",
     "output_type": "stream",
     "text": [
      "['312화 뮤즈 1', '311화 쌈 수화', '310화 아직 눈치채지 못했어?', '309화 빛보다 빠른 태세 전환', '308화 더 자', '307화 유미야 나 좀 씻을게', '306화 바비는 오늘 밤 어디서 자?', '305화 마중 나가다 2', '304화 마중 나가다 1', '303화 사랑의 큐피트']\n"
     ]
    }
   ],
   "source": [
    "import requests as rq\n",
    "from bs4 import BeautifulSoup\n",
    "\n",
    "def crawling(url):\n",
    "    respond = rq.get(url)\n",
    "    if respond.status_code != 200:\n",
    "        print(\"ERR, status code is %d.\" % respond.status_code)\n",
    "        return \"\"\n",
    "    html = respond.text\n",
    "    return html\n",
    "\n",
    "def parsing(html, selector):\n",
    "    parser = BeautifulSoup(html, 'html.parser')\n",
    "    collected = parser.select(selector)\n",
    "    parsed_lst = []\n",
    "    for e in collected:\n",
    "        txt = e.text\n",
    "        parsed_lst.append(txt)\n",
    "    return parsed_lst\n",
    "\n",
    "yumi_url = 'http://comic.naver.com/webtoon/list.nhn?titleId=651673'\n",
    "selector = 'tr > td.title > a'\n",
    "html = crawling(yumi_url)\n",
    "titles = parsing(html, selector)\n",
    "print(titles)"
   ]
  },
  {
   "cell_type": "code",
   "execution_count": null,
   "metadata": {
    "collapsed": true
   },
   "outputs": [],
   "source": []
  }
 ],
 "metadata": {
  "anaconda-cloud": {},
  "kernelspec": {
   "display_name": "Python [conda root]",
   "language": "python",
   "name": "conda-root-py"
  },
  "language_info": {
   "codemirror_mode": {
    "name": "ipython",
    "version": 3
   },
   "file_extension": ".py",
   "mimetype": "text/x-python",
   "name": "python",
   "nbconvert_exporter": "python",
   "pygments_lexer": "ipython3",
   "version": "3.5.2"
  }
 },
 "nbformat": 4,
 "nbformat_minor": 2
}
