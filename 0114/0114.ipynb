{
 "cells": [
  {
   "cell_type": "markdown",
   "metadata": {},
   "source": [
    "### 2018.01.14"
   ]
  },
  {
   "cell_type": "markdown",
   "metadata": {},
   "source": [
    "- 프로그래밍\n",
    "    + 데이터 + 운용 -> 원하는 결과\n",
    "\n",
    "- 커리큘럼\n",
    "    1. 기본\n",
    "        - 데이터 타입\n",
    "        - 연산자\n",
    "    2. List, 조건문, Loop\n",
    "    3. List, Tuple, Array, 함수\n",
    "    4. Class\n",
    "    \n",
    "- 수업\n",
    "    + 컴개실\n",
    "        - 입문: 파이썬 > c 언어 > 자바\n",
    "    + 프연\n",
    "        - 입문: 파이썬 > c 언어 > 자바\n",
    "    + 자료 구조\n",
    "        - 자바!\n",
    "    + 컴퓨터 프로그래밍\n",
    "        + 컴개실 + 자구\n",
    "    + 알고리즘\n",
    "        + 토대 알고리즘?\n",
    "    + 전선?\n",
    "        + 데이터마이닝 개론\n",
    "        + 기계 학습 (머신 러닝)\n",
    "        + 컴퓨터 비전\n",
    "    \n",
    "---\n",
    "\n",
    "- 데이터\n",
    "    + 데이터 타입?\n",
    "        * Primitive data type\n",
    "            + Int (정수)\n",
    "                - -1, 0, 1, 2, 3, ...\n",
    "            + Float (실수)\n",
    "                - 0.33333, -2.3234324\n",
    "            + String (문자)\n",
    "                - 'Hello', 'A', '234'\n",
    "            + Boolean (참 / 거짓)\n",
    "                - True / False\n",
    "                - 1 / 0\n",
    "        * Series data type (제가 지은 이름)\n",
    "            + List\n",
    "                - 대괄호를 써야하고 / , 로 element 구분\n",
    "                - ex) [3, -1, 0, 2, -4] -> Integer List\n",
    "            + Tuple\n",
    "                - 소괄호 / , 로 구분\n",
    "                - ex) (3, -1, 0, 2, -4)\n",
    "            + Array\n",
    "                - Numpy 에서 정의\n",
    "                    + Numpy: Scientific library\n",
    "                - 수학적인 리스트\n",
    "        * Data type을 직접 디자인 할 수 있다.\n",
    "            + Class\n",
    "               \n",
    "- 연산\n",
    "    * Int\n",
    "        + 사칙연산: +, -, *, /\n",
    "        + Modular (~를 ~로 나눈 나머지): %\n",
    "        + 몫 (~를 ~로 나눈 몫): //\n",
    "    * Float\n",
    "        + 사칙연산: +, -, *, /\n",
    "        + Modular (~를 ~로 나눈 나머지): %\n",
    "        + 몫 (~를 ~로 나눈 몫): //\n",
    "    * String\n",
    "        + Concatenation (문자 붙이기): +\n",
    "        + 곱하기: *\n",
    "            - ex) 'A' * 3 = 'AAA'\n",
    "            \n",
    "        + 길이 파악: len(`<Input_String>`)\n",
    "            - ex) len('As' * 3) = 6\n",
    "        + Indexing\n",
    "            - Sequence에서 특정 위치의 문자를 찝어낸다\n",
    "            - 특정 위치 = index\n",
    "                + !!!! INDEX !!!! 는 0 부터 시작\n",
    "            - x = 'ABCD', x[2] == 'C'\n",
    "        + Slicing\n",
    "            - Sequence에서 특정 범위의 문자를 찝어낸다\n",
    "            - Index 의 범위를 통해서\n",
    "                + [`<from_index>`:`<to_index>`]\n",
    "                + from 이상 : to 미만\n",
    "            - x = 'ABCDEFG', x[2:5] == 'CDE'\n",
    "    * Boolean\n",
    "        - not\n",
    "            + not(True) == False\n",
    "            + not(False) == True\n",
    "        - and\n",
    "            + True and True = True\n",
    "            + True and False = False\n",
    "            + False and True = False\n",
    "            + False and False = False\n",
    "            + 집합에서 교집합 (*)\n",
    "        - or\n",
    "            + True or True = True\n",
    "            + True or False = True\n",
    "            + False or True = True\n",
    "            + False or False = False\n",
    "            + 집합에서 합집합 (+)\n",
    "        - cf) True 와 False를 다른 데이터 타입으로 정의하기도 함\n",
    "              True == 1, 2, 3, 'sdfsd',..\n",
    "              False == 0\n",
    "              ex) not(1) == False\n",
    "    \n",
    "- 기타 연산\n",
    "    * Assignment\n",
    "        + 변수에 값을 대입\n",
    "        + <변수_이름> = 3\n",
    "        + !!!! = !!!! 이랑 !!!! == !!!! 은 다르다!\n",
    "    * Compare\n",
    "        + ==\n",
    "            + 3 == 4\n",
    "        + != \n",
    "            + 다르다\n",
    "            + 3 != 4 == True\n",
    "        + >\n",
    "        + <\n",
    "        + \\>=\n",
    "            - !!!! => 아님 !!!!\n",
    "            - = 이 무조건 뒤에 와야 함\n",
    "        + <=\n",
    "            - !!!! => 아님 !!!!\n",
    "            - = 이 무조건 뒤에 와야 함\n",
    "            \n"
   ]
  },
  {
   "cell_type": "markdown",
   "metadata": {},
   "source": [
    "---\n",
    "EX) \n",
    "어떤 String '123ABC456' 이 있다.\n",
    "여기서 'ABC'를 추출한 뒤\n",
    "'ABCABCABC'를 만들어 봅시다."
   ]
  },
  {
   "cell_type": "code",
   "execution_count": 32,
   "metadata": {
    "collapsed": false
   },
   "outputs": [
    {
     "data": {
      "text/plain": [
       "'ABCABCABC'"
      ]
     },
     "execution_count": 32,
     "metadata": {},
     "output_type": "execute_result"
    }
   ],
   "source": [
    "input_data = '123ABC456'\n",
    "x = input_data[3:6] \n",
    "x*3"
   ]
  },
  {
   "cell_type": "code",
   "execution_count": 38,
   "metadata": {
    "collapsed": false
   },
   "outputs": [
    {
     "name": "stdout",
     "output_type": "stream",
     "text": [
      "4\n"
     ]
    },
    {
     "data": {
      "text/plain": [
       "True"
      ]
     },
     "execution_count": 38,
     "metadata": {},
     "output_type": "execute_result"
    }
   ],
   "source": [
    "print(8//2)\n",
    "3 <= 4"
   ]
  },
  {
   "cell_type": "code",
   "execution_count": 14,
   "metadata": {
    "collapsed": false
   },
   "outputs": [
    {
     "data": {
      "text/plain": [
       "-4"
      ]
     },
     "execution_count": 14,
     "metadata": {},
     "output_type": "execute_result"
    }
   ],
   "source": [
    "1-5"
   ]
  },
  {
   "cell_type": "code",
   "execution_count": 29,
   "metadata": {
    "collapsed": false
   },
   "outputs": [
    {
     "data": {
      "text/plain": [
       "'CDE'"
      ]
     },
     "execution_count": 29,
     "metadata": {},
     "output_type": "execute_result"
    }
   ],
   "source": [
    "x = 'ABCDEFG'\n",
    "x[2:5]"
   ]
  },
  {
   "cell_type": "code",
   "execution_count": 39,
   "metadata": {
    "collapsed": false
   },
   "outputs": [
    {
     "data": {
      "text/plain": [
       "False"
      ]
     },
     "execution_count": 39,
     "metadata": {},
     "output_type": "execute_result"
    }
   ],
   "source": [
    "False and False"
   ]
  },
  {
   "cell_type": "code",
   "execution_count": 45,
   "metadata": {
    "collapsed": false
   },
   "outputs": [],
   "source": [
    "if not(34234234):\n",
    "    print(\"TRUE!!\")\n",
    "elif False:\n",
    "    print(\"FALSE!!\")"
   ]
  },
  {
   "cell_type": "code",
   "execution_count": 47,
   "metadata": {
    "collapsed": false
   },
   "outputs": [
    {
     "data": {
      "text/plain": [
       "False"
      ]
     },
     "execution_count": 47,
     "metadata": {},
     "output_type": "execute_result"
    }
   ],
   "source": [
    "not('ABCDEFG')"
   ]
  },
  {
   "cell_type": "code",
   "execution_count": 3,
   "metadata": {
    "collapsed": true
   },
   "outputs": [],
   "source": [
    "x = 3\n",
    "x = 3.3\n",
    "x = '23423'"
   ]
  },
  {
   "cell_type": "code",
   "execution_count": 2,
   "metadata": {
    "collapsed": false
   },
   "outputs": [
    {
     "data": {
      "text/plain": [
       "True"
      ]
     },
     "execution_count": 2,
     "metadata": {},
     "output_type": "execute_result"
    }
   ],
   "source": [
    "3 != 2"
   ]
  }
 ],
 "metadata": {
  "anaconda-cloud": {},
  "kernelspec": {
   "display_name": "Python [conda root]",
   "language": "python",
   "name": "conda-root-py"
  },
  "language_info": {
   "codemirror_mode": {
    "name": "ipython",
    "version": 3
   },
   "file_extension": ".py",
   "mimetype": "text/x-python",
   "name": "python",
   "nbconvert_exporter": "python",
   "pygments_lexer": "ipython3",
   "version": "3.5.2"
  }
 },
 "nbformat": 4,
 "nbformat_minor": 2
}
